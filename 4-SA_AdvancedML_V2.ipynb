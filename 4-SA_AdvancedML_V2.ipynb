{
 "cells": [
  {
   "cell_type": "markdown",
   "id": "d1539ec4",
   "metadata": {},
   "source": [
    "# Capstone2 project: International Student Recruitment Analytics\n",
    "# Group 4\n",
    "    - Rishikesh Gaikwad\t                    Student ID 0812570\n",
    "    - Fei Gao\t                              Student ID 0822295\n",
    "    - Ankitkumar Kamleshbhai Padhiar \t      Student ID 0803142\n",
    "    - Abhigna Reddy Sudini\t                 Student ID 0813526\n",
    "---"
   ]
  },
  {
   "cell_type": "markdown",
   "id": "b9799e43",
   "metadata": {},
   "source": [
    "# Part6 - Advanced ML model"
   ]
  },
  {
   "cell_type": "markdown",
   "id": "140e7f55",
   "metadata": {},
   "source": [
    "### Import necessory libraries"
   ]
  },
  {
   "cell_type": "code",
   "execution_count": 80,
   "id": "fa8930f3",
   "metadata": {},
   "outputs": [],
   "source": [
    "import numpy as np # linear algebra\n",
    "import pandas as pd # data processing, CSV file I/O (e.g. pd.read_csv)\n",
    "import seaborn as sns\n",
    "\n",
    "import matplotlib.pyplot as plt#visualization\n",
    "%matplotlib inline\n",
    "from matplotlib import rcParams\n",
    "rcParams['figure.figsize'] = 8,6"
   ]
  },
  {
   "cell_type": "markdown",
   "id": "8a74d79f",
   "metadata": {},
   "source": [
    "### Read the dataset"
   ]
  },
  {
   "cell_type": "code",
   "execution_count": 81,
   "id": "fbe5f393",
   "metadata": {},
   "outputs": [],
   "source": [
    "st_normal = pd.read_excel('students_selected.xlsx')"
   ]
  },
  {
   "cell_type": "code",
   "execution_count": 82,
   "id": "5b03eaf4",
   "metadata": {},
   "outputs": [
    {
     "data": {
      "text/html": [
       "<div>\n",
       "<style scoped>\n",
       "    .dataframe tbody tr th:only-of-type {\n",
       "        vertical-align: middle;\n",
       "    }\n",
       "\n",
       "    .dataframe tbody tr th {\n",
       "        vertical-align: top;\n",
       "    }\n",
       "\n",
       "    .dataframe thead th {\n",
       "        text-align: right;\n",
       "    }\n",
       "</style>\n",
       "<table border=\"1\" class=\"dataframe\">\n",
       "  <thead>\n",
       "    <tr style=\"text-align: right;\">\n",
       "      <th></th>\n",
       "      <th>enrolled</th>\n",
       "      <th>supporting_document_study_permit</th>\n",
       "      <th>offer_state_Pre-Registered</th>\n",
       "      <th>offer_state_Revoked</th>\n",
       "      <th>offer_state_Refund Requested</th>\n",
       "      <th>offer_state_Withdrawn</th>\n",
       "      <th>offer_state_Deferral Requested</th>\n",
       "      <th>offer_state_Paid</th>\n",
       "      <th>offer_state_Accepted</th>\n",
       "      <th>offer_state_Declined</th>\n",
       "      <th>offer_state_Offered</th>\n",
       "      <th>supporting_document_visa_approval_letter</th>\n",
       "      <th>zip_code_encoded</th>\n",
       "      <th>proof_of_payment_provided</th>\n",
       "      <th>age</th>\n",
       "      <th>standardized_score</th>\n",
       "    </tr>\n",
       "  </thead>\n",
       "  <tbody>\n",
       "    <tr>\n",
       "      <th>0</th>\n",
       "      <td>0</td>\n",
       "      <td>0.25</td>\n",
       "      <td>0</td>\n",
       "      <td>1</td>\n",
       "      <td>0</td>\n",
       "      <td>0</td>\n",
       "      <td>0</td>\n",
       "      <td>0</td>\n",
       "      <td>0</td>\n",
       "      <td>0</td>\n",
       "      <td>0</td>\n",
       "      <td>0.0</td>\n",
       "      <td>0.000000</td>\n",
       "      <td>0</td>\n",
       "      <td>0.285714</td>\n",
       "      <td>0.666667</td>\n",
       "    </tr>\n",
       "    <tr>\n",
       "      <th>1</th>\n",
       "      <td>1</td>\n",
       "      <td>0.25</td>\n",
       "      <td>1</td>\n",
       "      <td>0</td>\n",
       "      <td>0</td>\n",
       "      <td>0</td>\n",
       "      <td>0</td>\n",
       "      <td>0</td>\n",
       "      <td>0</td>\n",
       "      <td>0</td>\n",
       "      <td>0</td>\n",
       "      <td>0.0</td>\n",
       "      <td>0.077016</td>\n",
       "      <td>0</td>\n",
       "      <td>0.178571</td>\n",
       "      <td>0.666667</td>\n",
       "    </tr>\n",
       "    <tr>\n",
       "      <th>2</th>\n",
       "      <td>0</td>\n",
       "      <td>0.00</td>\n",
       "      <td>0</td>\n",
       "      <td>1</td>\n",
       "      <td>0</td>\n",
       "      <td>0</td>\n",
       "      <td>0</td>\n",
       "      <td>0</td>\n",
       "      <td>0</td>\n",
       "      <td>0</td>\n",
       "      <td>0</td>\n",
       "      <td>0.0</td>\n",
       "      <td>0.018051</td>\n",
       "      <td>1</td>\n",
       "      <td>0.250000</td>\n",
       "      <td>0.722222</td>\n",
       "    </tr>\n",
       "    <tr>\n",
       "      <th>3</th>\n",
       "      <td>0</td>\n",
       "      <td>0.00</td>\n",
       "      <td>0</td>\n",
       "      <td>1</td>\n",
       "      <td>0</td>\n",
       "      <td>0</td>\n",
       "      <td>0</td>\n",
       "      <td>0</td>\n",
       "      <td>0</td>\n",
       "      <td>0</td>\n",
       "      <td>0</td>\n",
       "      <td>0.0</td>\n",
       "      <td>0.289410</td>\n",
       "      <td>0</td>\n",
       "      <td>0.250000</td>\n",
       "      <td>0.666667</td>\n",
       "    </tr>\n",
       "    <tr>\n",
       "      <th>4</th>\n",
       "      <td>1</td>\n",
       "      <td>0.25</td>\n",
       "      <td>1</td>\n",
       "      <td>0</td>\n",
       "      <td>0</td>\n",
       "      <td>0</td>\n",
       "      <td>0</td>\n",
       "      <td>0</td>\n",
       "      <td>0</td>\n",
       "      <td>0</td>\n",
       "      <td>0</td>\n",
       "      <td>0.0</td>\n",
       "      <td>0.017449</td>\n",
       "      <td>1</td>\n",
       "      <td>0.142857</td>\n",
       "      <td>0.722222</td>\n",
       "    </tr>\n",
       "  </tbody>\n",
       "</table>\n",
       "</div>"
      ],
      "text/plain": [
       "   enrolled  supporting_document_study_permit  offer_state_Pre-Registered  \\\n",
       "0         0                              0.25                           0   \n",
       "1         1                              0.25                           1   \n",
       "2         0                              0.00                           0   \n",
       "3         0                              0.00                           0   \n",
       "4         1                              0.25                           1   \n",
       "\n",
       "   offer_state_Revoked  offer_state_Refund Requested  offer_state_Withdrawn  \\\n",
       "0                    1                             0                      0   \n",
       "1                    0                             0                      0   \n",
       "2                    1                             0                      0   \n",
       "3                    1                             0                      0   \n",
       "4                    0                             0                      0   \n",
       "\n",
       "   offer_state_Deferral Requested  offer_state_Paid  offer_state_Accepted  \\\n",
       "0                               0                 0                     0   \n",
       "1                               0                 0                     0   \n",
       "2                               0                 0                     0   \n",
       "3                               0                 0                     0   \n",
       "4                               0                 0                     0   \n",
       "\n",
       "   offer_state_Declined  offer_state_Offered  \\\n",
       "0                     0                    0   \n",
       "1                     0                    0   \n",
       "2                     0                    0   \n",
       "3                     0                    0   \n",
       "4                     0                    0   \n",
       "\n",
       "   supporting_document_visa_approval_letter  zip_code_encoded  \\\n",
       "0                                       0.0          0.000000   \n",
       "1                                       0.0          0.077016   \n",
       "2                                       0.0          0.018051   \n",
       "3                                       0.0          0.289410   \n",
       "4                                       0.0          0.017449   \n",
       "\n",
       "   proof_of_payment_provided       age  standardized_score  \n",
       "0                          0  0.285714            0.666667  \n",
       "1                          0  0.178571            0.666667  \n",
       "2                          1  0.250000            0.722222  \n",
       "3                          0  0.250000            0.666667  \n",
       "4                          1  0.142857            0.722222  "
      ]
     },
     "execution_count": 82,
     "metadata": {},
     "output_type": "execute_result"
    }
   ],
   "source": [
    "st = st_normal.copy() # make a copy\n",
    "st.head() # data overview"
   ]
  },
  {
   "cell_type": "markdown",
   "id": "33730a3c",
   "metadata": {},
   "source": [
    "---"
   ]
  },
  {
   "cell_type": "markdown",
   "id": "9d575aac",
   "metadata": {},
   "source": [
    "## Spliting the data"
   ]
  },
  {
   "cell_type": "code",
   "execution_count": 83,
   "id": "011146ff",
   "metadata": {},
   "outputs": [],
   "source": [
    "from sklearn.model_selection import train_test_split"
   ]
  },
  {
   "cell_type": "code",
   "execution_count": 84,
   "id": "5452298d",
   "metadata": {},
   "outputs": [],
   "source": [
    "X = st.drop('enrolled', axis=1)  # Input features\n",
    "y = st['enrolled']  # Target variable"
   ]
  },
  {
   "cell_type": "code",
   "execution_count": 85,
   "id": "86475349",
   "metadata": {},
   "outputs": [],
   "source": [
    "X_train, X_test, y_train, y_test = train_test_split(X, y, test_size=0.2, random_state=42)"
   ]
  },
  {
   "cell_type": "markdown",
   "id": "398ae223",
   "metadata": {},
   "source": [
    "## Chosing a model"
   ]
  },
  {
   "cell_type": "markdown",
   "id": "58941072",
   "metadata": {},
   "source": [
    "### Random Forest Classifier  \n",
    "Random Forest is a powerful ensemble learning method that is good for handling tabular data."
   ]
  },
  {
   "cell_type": "code",
   "execution_count": 86,
   "id": "6ba39a1f",
   "metadata": {},
   "outputs": [],
   "source": [
    "from sklearn.ensemble import RandomForestClassifier\n",
    "\n",
    "# Initialize the model\n",
    "rf_model = RandomForestClassifier(n_estimators=200, max_depth=10, random_state=42) # using optimized parameters 200,10\n",
    "\n",
    "# Fit the model on the training data\n",
    "rf_model.fit(X_train, y_train)\n",
    "\n",
    "# Make predictions\n",
    "y_pred = rf_model.predict(X_test)\n"
   ]
  },
  {
   "cell_type": "markdown",
   "id": "a28a0642",
   "metadata": {},
   "source": [
    "### Gradient Boosting Classifier  \n",
    "Gradient Boosting is another ensemble technique that builds one tree at a time and is great for reducing bias and variance."
   ]
  },
  {
   "cell_type": "code",
   "execution_count": 87,
   "id": "88ac8846",
   "metadata": {},
   "outputs": [],
   "source": [
    "from sklearn.ensemble import GradientBoostingClassifier\n",
    "\n",
    "gb_model = GradientBoostingClassifier(n_estimators=100, learning_rate=1.0, max_depth=1, random_state=42)\n",
    "gb_model.fit(X_train, y_train)\n",
    "y_pred_gb = gb_model.predict(X_test)\n"
   ]
  },
  {
   "cell_type": "markdown",
   "id": "6e14ead4",
   "metadata": {},
   "source": [
    "### Support Vector Machine (SVM)  \n",
    "SVM can be very effective, especially in high dimensional spaces."
   ]
  },
  {
   "cell_type": "code",
   "execution_count": 88,
   "id": "03a4c480",
   "metadata": {},
   "outputs": [],
   "source": [
    "from sklearn.svm import SVC\n",
    "\n",
    "svm_model = SVC(kernel='linear', probability=True)  # For linearly separable data\n",
    "svm_model.fit(X_train, y_train)\n",
    "y_pred_svm = svm_model.predict(X_test)\n"
   ]
  },
  {
   "cell_type": "markdown",
   "id": "2881ee70",
   "metadata": {},
   "source": [
    "### Neural Networks  \n",
    "For neural networks, you might use TensorFlow or PyTorch. Here's a simple example using scikit-learn's MLPClassifier, which is a basic neural network classifier."
   ]
  },
  {
   "cell_type": "code",
   "execution_count": 109,
   "id": "502847a8",
   "metadata": {},
   "outputs": [
    {
     "name": "stdout",
     "output_type": "stream",
     "text": [
      "Iteration 1, loss = 0.39743535\n",
      "Iteration 2, loss = 0.23308239\n",
      "Iteration 3, loss = 0.20869449\n",
      "Iteration 4, loss = 0.19975464\n",
      "Iteration 5, loss = 0.19645657\n",
      "Iteration 6, loss = 0.19391695\n",
      "Iteration 7, loss = 0.19154835\n",
      "Iteration 8, loss = 0.18920126\n",
      "Iteration 9, loss = 0.18718673\n",
      "Iteration 10, loss = 0.18551946\n",
      "Iteration 11, loss = 0.18346139\n",
      "Iteration 12, loss = 0.18169796\n",
      "Iteration 13, loss = 0.18028519\n",
      "Iteration 14, loss = 0.17864315\n",
      "Iteration 15, loss = 0.17732329\n",
      "Iteration 16, loss = 0.17615814\n",
      "Iteration 17, loss = 0.17526762\n",
      "Iteration 18, loss = 0.17456129\n",
      "Iteration 19, loss = 0.17395819\n",
      "Iteration 20, loss = 0.17313130\n",
      "Iteration 21, loss = 0.17278971\n",
      "Iteration 22, loss = 0.17236951\n",
      "Iteration 23, loss = 0.17224189\n",
      "Iteration 24, loss = 0.17174244\n",
      "Iteration 25, loss = 0.17150003\n",
      "Iteration 26, loss = 0.17140734\n",
      "Iteration 27, loss = 0.17074926\n",
      "Iteration 28, loss = 0.17089973\n",
      "Iteration 29, loss = 0.17065627\n",
      "Iteration 30, loss = 0.17014670\n",
      "Iteration 31, loss = 0.17027375\n",
      "Iteration 32, loss = 0.16995575\n",
      "Iteration 33, loss = 0.16994835\n",
      "Iteration 34, loss = 0.17009516\n",
      "Iteration 35, loss = 0.16978068\n",
      "Iteration 36, loss = 0.16997792\n",
      "Iteration 37, loss = 0.16946604\n",
      "Iteration 38, loss = 0.16963718\n",
      "Iteration 39, loss = 0.16916132\n",
      "Iteration 40, loss = 0.16966721\n",
      "Iteration 41, loss = 0.16900965\n",
      "Iteration 42, loss = 0.16909195\n",
      "Iteration 43, loss = 0.16890756\n",
      "Iteration 44, loss = 0.16885550\n",
      "Iteration 45, loss = 0.16880064\n",
      "Iteration 46, loss = 0.16874701\n",
      "Iteration 47, loss = 0.16891481\n",
      "Iteration 48, loss = 0.16829991\n",
      "Iteration 49, loss = 0.16841535\n",
      "Iteration 50, loss = 0.16854316\n",
      "Iteration 51, loss = 0.16830901\n",
      "Iteration 52, loss = 0.16826941\n",
      "Iteration 53, loss = 0.16847119\n",
      "Iteration 54, loss = 0.16819561\n",
      "Iteration 55, loss = 0.16825637\n",
      "Iteration 56, loss = 0.16822949\n",
      "Iteration 57, loss = 0.16777980\n",
      "Iteration 58, loss = 0.16758859\n",
      "Iteration 59, loss = 0.16787315\n",
      "Iteration 60, loss = 0.16790832\n",
      "Iteration 61, loss = 0.16742585\n",
      "Iteration 62, loss = 0.16785267\n",
      "Iteration 63, loss = 0.16751981\n",
      "Iteration 64, loss = 0.16723887\n",
      "Iteration 65, loss = 0.16732181\n",
      "Iteration 66, loss = 0.16729474\n",
      "Iteration 67, loss = 0.16717824\n",
      "Iteration 68, loss = 0.16770946\n",
      "Iteration 69, loss = 0.16707806\n",
      "Iteration 70, loss = 0.16717013\n",
      "Iteration 71, loss = 0.16704540\n",
      "Iteration 72, loss = 0.16699898\n",
      "Iteration 73, loss = 0.16687929\n",
      "Iteration 74, loss = 0.16674489\n",
      "Iteration 75, loss = 0.16687865\n",
      "Iteration 76, loss = 0.16699007\n",
      "Iteration 77, loss = 0.16691137\n",
      "Iteration 78, loss = 0.16699402\n",
      "Iteration 79, loss = 0.16665536\n",
      "Iteration 80, loss = 0.16674521\n",
      "Iteration 81, loss = 0.16666967\n",
      "Iteration 82, loss = 0.16650496\n",
      "Iteration 83, loss = 0.16645873\n",
      "Iteration 84, loss = 0.16666682\n",
      "Iteration 85, loss = 0.16665013\n",
      "Iteration 86, loss = 0.16666143\n",
      "Iteration 87, loss = 0.16635939\n",
      "Iteration 88, loss = 0.16606837\n",
      "Iteration 89, loss = 0.16626513\n",
      "Iteration 90, loss = 0.16629407\n",
      "Iteration 91, loss = 0.16598527\n",
      "Iteration 92, loss = 0.16623028\n",
      "Iteration 93, loss = 0.16617340\n",
      "Iteration 94, loss = 0.16598775\n",
      "Iteration 95, loss = 0.16632623\n",
      "Iteration 96, loss = 0.16605556\n",
      "Iteration 97, loss = 0.16585440\n",
      "Iteration 98, loss = 0.16611021\n",
      "Iteration 99, loss = 0.16576804\n",
      "Iteration 100, loss = 0.16590223\n",
      "Iteration 101, loss = 0.16570549\n",
      "Iteration 102, loss = 0.16574863\n",
      "Iteration 103, loss = 0.16562313\n",
      "Iteration 104, loss = 0.16564090\n",
      "Iteration 105, loss = 0.16564867\n",
      "Iteration 106, loss = 0.16559978\n",
      "Iteration 107, loss = 0.16586291\n",
      "Iteration 108, loss = 0.16565091\n",
      "Training loss did not improve more than tol=0.000100 for 10 consecutive epochs. Stopping.\n"
     ]
    }
   ],
   "source": [
    "from sklearn.neural_network import MLPClassifier\n",
    "\n",
    "nn_model = MLPClassifier(hidden_layer_sizes=(179,), #using the optimized parameters 0.001,179,adaptive\n",
    "                         activation='relu',\n",
    "                         max_iter=1000, alpha=0.001,\n",
    "                         solver='adam', verbose=10, random_state=1,\n",
    "                         learning_rate='adaptive',\n",
    "                         learning_rate_init=.001)\n",
    "\n",
    "nn_model.fit(X_train, y_train)\n",
    "y_pred_nn = nn_model.predict(X_test)\n"
   ]
  },
  {
   "cell_type": "markdown",
   "id": "4c543885",
   "metadata": {},
   "source": [
    "## Evaluating the Model"
   ]
  },
  {
   "cell_type": "markdown",
   "id": "a1bdfab6",
   "metadata": {},
   "source": [
    "### Random Forest"
   ]
  },
  {
   "cell_type": "code",
   "execution_count": 90,
   "id": "289aa0ab",
   "metadata": {},
   "outputs": [],
   "source": [
    "y_pred = rf_model.predict(X_test)  # Class predictions\n",
    "y_prob = rf_model.predict_proba(X_test)[:, 1]  # Probabilities for the positive class\n"
   ]
  },
  {
   "cell_type": "code",
   "execution_count": 91,
   "id": "745ceb09",
   "metadata": {},
   "outputs": [
    {
     "name": "stdout",
     "output_type": "stream",
     "text": [
      "Accuracy: 0.94\n",
      "Precision: 0.95\n",
      "Recall: 0.87\n",
      "F1 Score: 0.90\n",
      "AUC-ROC: 0.97\n"
     ]
    }
   ],
   "source": [
    "from sklearn.metrics import accuracy_score, precision_score, recall_score, f1_score, roc_auc_score, roc_curve\n",
    "\n",
    "accuracy = accuracy_score(y_test, y_pred)\n",
    "precision = precision_score(y_test, y_pred)\n",
    "recall = recall_score(y_test, y_pred)\n",
    "f1 = f1_score(y_test, y_pred)\n",
    "auc_roc = roc_auc_score(y_test, y_prob)\n",
    "\n",
    "print(f\"Accuracy: {accuracy:.2f}\")\n",
    "print(f\"Precision: {precision:.2f}\")\n",
    "print(f\"Recall: {recall:.2f}\")\n",
    "print(f\"F1 Score: {f1:.2f}\")\n",
    "print(f\"AUC-ROC: {auc_roc:.2f}\")\n"
   ]
  },
  {
   "cell_type": "code",
   "execution_count": 92,
   "id": "e943efed",
   "metadata": {},
   "outputs": [
    {
     "data": {
      "image/png": "[encoded data removed]",
      "text/plain": [
       "<Figure size 800x600 with 1 Axes>"
      ]
     },
     "metadata": {},
     "output_type": "display_data"
    }
   ],
   "source": [
    "import matplotlib.pyplot as plt\n",
    "\n",
    "fpr, tpr, thresholds = roc_curve(y_test, y_prob)\n",
    "\n",
    "plt.plot(fpr, tpr, color='orange', label=f'ROC curve (area = {auc_roc:.2f})')\n",
    "plt.plot([0, 1], [0, 1], color='darkblue', linestyle='--')\n",
    "plt.xlabel('False Positive Rate')\n",
    "plt.ylabel('True Positive Rate')\n",
    "plt.title('Receiver Operating Characteristic (ROC) Curve')\n",
    "plt.legend()\n",
    "plt.show()\n"
   ]
  },
  {
   "cell_type": "markdown",
   "id": "725cc4a7",
   "metadata": {},
   "source": [
    "### Gradient Boosting"
   ]
  },
  {
   "cell_type": "code",
   "execution_count": 93,
   "id": "0ec05f3a",
   "metadata": {},
   "outputs": [],
   "source": [
    "y_pred = gb_model.predict(X_test)  # Class predictions\n",
    "y_prob = gb_model.predict_proba(X_test)[:, 1]  # Probabilities for the positive class"
   ]
  },
  {
   "cell_type": "code",
   "execution_count": 94,
   "id": "6e36bbb1",
   "metadata": {},
   "outputs": [
    {
     "name": "stdout",
     "output_type": "stream",
     "text": [
      "Accuracy: 0.92\n",
      "Precision: 0.93\n",
      "Recall: 0.84\n",
      "F1 Score: 0.88\n",
      "AUC-ROC: 0.96\n"
     ]
    }
   ],
   "source": [
    "accuracy = accuracy_score(y_test, y_pred)\n",
    "precision = precision_score(y_test, y_pred)\n",
    "recall = recall_score(y_test, y_pred)\n",
    "f1 = f1_score(y_test, y_pred)\n",
    "auc_roc = roc_auc_score(y_test, y_prob)\n",
    "\n",
    "print(f\"Accuracy: {accuracy:.2f}\")\n",
    "print(f\"Precision: {precision:.2f}\")\n",
    "print(f\"Recall: {recall:.2f}\")\n",
    "print(f\"F1 Score: {f1:.2f}\")\n",
    "print(f\"AUC-ROC: {auc_roc:.2f}\")"
   ]
  },
  {
   "cell_type": "markdown",
   "id": "46954d0d",
   "metadata": {},
   "source": [
    "### SVM"
   ]
  },
  {
   "cell_type": "code",
   "execution_count": 95,
   "id": "223bfed6",
   "metadata": {},
   "outputs": [],
   "source": [
    "y_pred_svm = svm_model.predict(X_test)\n",
    "y_prob_svm = gb_model.predict_proba(X_test)[:, 1]  # Probabilities for the positive class"
   ]
  },
  {
   "cell_type": "code",
   "execution_count": 96,
   "id": "56dd2735",
   "metadata": {},
   "outputs": [],
   "source": [
    "accuracy_svm = accuracy_score(y_test, y_pred_svm)\n",
    "precision_svm = precision_score(y_test, y_pred_svm)\n",
    "recall_svm = recall_score(y_test, y_pred_svm)\n",
    "f1_svm = f1_score(y_test, y_pred_svm)\n",
    "auc_roc_svm = roc_auc_score(y_test, y_prob_svm)"
   ]
  },
  {
   "cell_type": "code",
   "execution_count": 97,
   "id": "fe20fe2c",
   "metadata": {},
   "outputs": [
    {
     "name": "stdout",
     "output_type": "stream",
     "text": [
      "Accuracy: 0.92\n",
      "Precision: 0.94\n",
      "Recall: 0.84\n",
      "F1 Score: 0.89\n",
      "AUC-ROC: 0.96\n"
     ]
    }
   ],
   "source": [
    "print(f\"Accuracy: {accuracy_svm:.2f}\")\n",
    "print(f\"Precision: {precision_svm:.2f}\")\n",
    "print(f\"Recall: {recall_svm:.2f}\")\n",
    "print(f\"F1 Score: {f1_svm:.2f}\")\n",
    "print(f\"AUC-ROC: {auc_roc_svm:.2f}\")"
   ]
  },
  {
   "cell_type": "markdown",
   "id": "80c76986",
   "metadata": {},
   "source": [
    "### Neural network"
   ]
  },
  {
   "cell_type": "code",
   "execution_count": 98,
   "id": "0cdebaa1",
   "metadata": {},
   "outputs": [],
   "source": [
    "from sklearn.metrics import accuracy_score, precision_score, recall_score, f1_score, roc_auc_score"
   ]
  },
  {
   "cell_type": "code",
   "execution_count": 110,
   "id": "6f824cdd",
   "metadata": {},
   "outputs": [],
   "source": [
    "# Predictions\n",
    "y_pred = nn_model.predict(X_test)  # These are the predicted classes\n",
    "\n",
    "# To calculate AUC-ROC, we need the probabilities of the positive class\n",
    "y_prob = nn_model.predict_proba(X_test)[:, 1]  # Probability estimates for the positive class\n"
   ]
  },
  {
   "cell_type": "code",
   "execution_count": 111,
   "id": "c644a3ee",
   "metadata": {},
   "outputs": [
    {
     "name": "stdout",
     "output_type": "stream",
     "text": [
      "Accuracy: 0.935546293539744\n",
      "Precision: 0.9368663594470046\n",
      "Recall: 0.8729068269643624\n",
      "F1 Score: 0.9037563903089575\n",
      "AUC-ROC: 0.9718433246941078\n"
     ]
    }
   ],
   "source": [
    "# Accuracy\n",
    "accuracy = accuracy_score(y_test, y_pred)\n",
    "print(\"Accuracy:\", accuracy)\n",
    "\n",
    "# Precision\n",
    "precision = precision_score(y_test, y_pred)\n",
    "print(\"Precision:\", precision)\n",
    "\n",
    "# Recall\n",
    "recall = recall_score(y_test, y_pred)\n",
    "print(\"Recall:\", recall)\n",
    "\n",
    "# F1 Score\n",
    "f1 = f1_score(y_test, y_pred)\n",
    "print(\"F1 Score:\", f1)\n",
    "\n",
    "# AUC-ROC\n",
    "auc_roc = roc_auc_score(y_test, y_prob)\n",
    "print(\"AUC-ROC:\", auc_roc)\n"
   ]
  },
  {
   "cell_type": "markdown",
   "id": "33f8056a",
   "metadata": {},
   "source": [
    "#### Interpretation\n",
    "\n",
    "- **Accuracy**: The ratio of correctly predicted observations to the total observations. It's a useful measure when the target classes are balanced.\n",
    "- **Precision**: The ratio of correctly predicted positive observations to the total predicted positives. It's crucial when the cost of false positives is high.\n",
    "- **Recall (Sensitivity)**: The ratio of correctly predicted positive observations to the all observations in actual class. It's essential when the cost of false negatives is high.\n",
    "- **F1 Score**: The weighted average of Precision and Recall. Useful when you seek a balance between Precision and Recall and there's an uneven class distribution.\n",
    "- **AUC-ROC**: AUC - Area Under the ROC Curve. It tells how much the model is capable of distinguishing between classes. Higher the AUC, better the model is at predicting 0s as 0s and 1s as 1s."
   ]
  },
  {
   "cell_type": "markdown",
   "id": "7417c7dc",
   "metadata": {},
   "source": [
    "## 4. Tuning and Optimization\n",
    "Depending on the initial results, you might want to tune your model to improve its performance. This can involve adjusting hyperparameters, using techniques like grid search or random search, and cross-validation."
   ]
  },
  {
   "cell_type": "markdown",
   "id": "c4c42c0b",
   "metadata": {},
   "source": [
    "### Random Forest"
   ]
  },
  {
   "cell_type": "code",
   "execution_count": 101,
   "id": "c499322a",
   "metadata": {},
   "outputs": [
    {
     "name": "stdout",
     "output_type": "stream",
     "text": [
      "Best parameters: {'max_depth': 10, 'n_estimators': 200}\n"
     ]
    }
   ],
   "source": [
    "from sklearn.model_selection import GridSearchCV\n",
    "\n",
    "# Example for Random Forest\n",
    "param_grid = {\n",
    "    'n_estimators': [100, 200, 300],\n",
    "    'max_depth': [5, 10, 15, None]\n",
    "}\n",
    "\n",
    "grid_search = GridSearchCV(estimator=rf_model, param_grid=param_grid, cv=5, scoring='accuracy')\n",
    "grid_search.fit(X_train, y_train)\n",
    "print(\"Best parameters:\", grid_search.best_params_)\n"
   ]
  },
  {
   "cell_type": "markdown",
   "id": "e832f374",
   "metadata": {},
   "source": [
    "### Neural Networks"
   ]
  },
  {
   "cell_type": "markdown",
   "id": "cdcc4a9e",
   "metadata": {},
   "source": [
    "### 1. Identify Hyperparameters to Tune\n",
    "\n",
    "For a neural network like an `MLPClassifier`, relevant hyperparameters might include:\n",
    "- `hidden_layer_sizes`: The number of neurons in the hidden layers.\n",
    "- `activation`: The activation function for the hidden layers, e.g., 'relu', 'tanh'.\n",
    "- `solver`: The solver for weight optimization, e.g., 'adam', 'sgd', 'lbfgs'.\n",
    "- `alpha`: L2 penalty (regularization term) parameter.\n",
    "- `learning_rate`: Learning rate schedule for weight updates.\n",
    "- `max_iter`: Maximum number of iterations."
   ]
  },
  {
   "cell_type": "markdown",
   "id": "cbe4f3dc",
   "metadata": {},
   "source": [
    "### 2. Manual Tuning\n",
    "\n",
    "You can start by manually adjusting these hyperparameters and observing the effect on performance. This approach gives you a feel for how each hyperparameter affects learning but can be time-consuming.\n",
    "\n",
    "### 3. Automated Hyperparameter Optimization\n",
    "\n",
    "For a more systematic approach, use techniques like grid search or random search to explore the hyperparameter space.\n",
    "\n",
    "#### Grid Search\n",
    "\n",
    "`GridSearchCV` from scikit-learn systematically explores a grid of hyperparameters, evaluating each combination."
   ]
  },
  {
   "cell_type": "code",
   "execution_count": 102,
   "id": "446519d6",
   "metadata": {},
   "outputs": [
    {
     "name": "stdout",
     "output_type": "stream",
     "text": [
      "Best parameters found:  {'activation': 'relu', 'alpha': 0.001, 'hidden_layer_sizes': (50, 50), 'learning_rate': 'constant', 'solver': 'adam'}\n"
     ]
    }
   ],
   "source": [
    "from sklearn.model_selection import GridSearchCV\n",
    "from sklearn.neural_network import MLPClassifier\n",
    "\n",
    "# Define a simple neural network model\n",
    "nn_model_1 = MLPClassifier()\n",
    "\n",
    "# Define the grid of values to search\n",
    "param_grid = {\n",
    "    'hidden_layer_sizes': [(50,), (100,), (50, 50)],\n",
    "    'activation': ['tanh', 'relu'],\n",
    "    'solver': ['sgd', 'adam'],\n",
    "    'alpha': [0.0001, 0.001, 0.05],\n",
    "    'learning_rate': ['constant', 'adaptive'],\n",
    "}\n",
    "\n",
    "# Setup the grid search\n",
    "grid_search = GridSearchCV(estimator=nn_model_1, param_grid=param_grid, n_jobs=-1, cv=3, scoring='accuracy')\n",
    "grid_search.fit(X_train, y_train)\n",
    "\n",
    "# Print the best parameters\n",
    "print(\"Best parameters found: \", grid_search.best_params_)\n"
   ]
  },
  {
   "cell_type": "markdown",
   "id": "8a750b57",
   "metadata": {},
   "source": [
    "#### Random Search\n",
    "\n",
    "`RandomizedSearchCV` explores random combinations of hyperparameters. This can be more efficient than grid search, especially when dealing with a large hyperparameter space."
   ]
  },
  {
   "cell_type": "code",
   "execution_count": 103,
   "id": "85b78853",
   "metadata": {},
   "outputs": [
    {
     "name": "stdout",
     "output_type": "stream",
     "text": [
      "Fitting 3 folds for each of 100 candidates, totalling 300 fits\n",
      "Best parameters found:  {'activation': 'relu', 'alpha': 0.001, 'hidden_layer_sizes': 179, 'learning_rate': 'adaptive', 'solver': 'adam'}\n"
     ]
    }
   ],
   "source": [
    "from sklearn.model_selection import RandomizedSearchCV\n",
    "from scipy.stats import randint as sp_randint\n",
    "\n",
    "# Define the parameter space to explore\n",
    "param_dist = {\n",
    "    'hidden_layer_sizes': sp_randint(50, 200),\n",
    "    'activation': ['tanh', 'relu'],\n",
    "    'solver': ['sgd', 'adam'],\n",
    "    'alpha': [0.0001, 0.001, 0.01, 0.1],\n",
    "    'learning_rate': ['constant', 'adaptive'],\n",
    "}\n",
    "\n",
    "# Setup the random search\n",
    "random_search = RandomizedSearchCV(nn_model_1, param_distributions=param_dist, n_iter=100, cv=3, verbose=2, random_state=42, n_jobs=-1)\n",
    "random_search.fit(X_train, y_train)\n",
    "\n",
    "# Print the best parameters\n",
    "print(\"Best parameters found: \", random_search.best_params_)\n"
   ]
  },
  {
   "cell_type": "markdown",
   "id": "62e76cc7",
   "metadata": {},
   "source": [
    "### 4. Cross-Validation\n",
    "\n",
    "Regardless of the optimization technique, use cross-validation to ensure that your model generalizes well to unseen data. This can be built into both grid search and random search via the `cv` parameter.\n",
    "\n",
    "### 5. Evaluation and Iteration\n",
    "\n",
    "After finding the best hyperparameters, evaluate your optimized model on the test set to ensure it performs as expected. Hyperparameter tuning is an iterative process; you may need to adjust your strategy based on the results.\n",
    "\n",
    "### Conclusion\n",
    "\n",
    "Tuning a neural network is both an art and a science, requiring experimentation and patience. Automated methods like grid search and random search can save time and help discover effective hyperparameter combinations. Always validate the results using cross-validation or a separate test set to ensure the model's performance generalizes well."
   ]
  },
  {
   "cell_type": "markdown",
   "id": "9e654cd0",
   "metadata": {},
   "source": [
    "## Plotting ROC Curve"
   ]
  },
  {
   "cell_type": "markdown",
   "id": "d4f37e2b",
   "metadata": {},
   "source": [
    "#### Step 1: Import Necessary Libraries"
   ]
  },
  {
   "cell_type": "code",
   "execution_count": 104,
   "id": "2ae2ab3a",
   "metadata": {},
   "outputs": [],
   "source": [
    "from sklearn.metrics import accuracy_score, precision_score, recall_score, f1_score, roc_auc_score, roc_curve, auc\n",
    "import matplotlib.pyplot as plt"
   ]
  },
  {
   "cell_type": "markdown",
   "id": "a87ac9fa",
   "metadata": {},
   "source": [
    "#### Step 2: Model Predictions\n",
    "\n",
    "For each model, after training it with your training data, you'll use the test data to generate predictions. For AUC-ROC, you'll need the probability scores for the positive class."
   ]
  },
  {
   "cell_type": "code",
   "execution_count": 105,
   "id": "8a7b07ad",
   "metadata": {},
   "outputs": [],
   "source": [
    "# For models like RandomForest, Gradient Boosting, and Neural Network\n",
    "y_pred_rf = rf_model.predict(X_test)\n",
    "y_prob_rf = rf_model.predict_proba(X_test)[:, 1]  # For AUC-ROC, assuming rf_model is your trained model\n",
    "\n",
    "# Repeat for Gradient Boosting\n",
    "y_pred_gb = gb_model.predict(X_test)\n",
    "y_prob_gb = gb_model.predict_proba(X_test)[:, 1]\n",
    "\n",
    "# For SVM, which doesn't naturally output probabilities, you'll just get predictions\n",
    "y_pred_svm = svm_model.predict(X_test)\n",
    "y_prob_svm = svm_model.predict_proba(X_test)[:, 1]\n",
    "\n",
    "# For Neural Network (assuming it's a classifier like MLPClassifier)\n",
    "y_pred_nn = nn_model.predict(X_test)\n",
    "y_prob_nn = nn_model.predict_proba(X_test)[:, 1]\n"
   ]
  },
  {
   "cell_type": "markdown",
   "id": "7fd3f5d7",
   "metadata": {},
   "source": [
    "#### Step 3: Evaluate Metrics\n",
    "\n",
    "Now, calculate each metric using the true labels `y_test` and your predictions. For models without probability outputs (like some SVM configurations), you'll skip AUC-ROC."
   ]
  },
  {
   "cell_type": "code",
   "execution_count": 106,
   "id": "05aa0e42",
   "metadata": {},
   "outputs": [],
   "source": [
    "# Assume `y_test` is your true labels\n",
    "# For accuracy, precision, recall, and F1 score\n",
    "accuracy_rf = accuracy_score(y_test, y_pred_rf)\n",
    "precision_rf = precision_score(y_test, y_pred_rf)\n",
    "recall_rf = recall_score(y_test, y_pred_rf)\n",
    "f1_rf = f1_score(y_test, y_pred_rf)\n",
    "\n",
    "# For AUC-ROC\n",
    "auc_roc_rf = roc_auc_score(y_test, y_prob_rf)\n",
    "\n",
    "# Repeat the process for Gradient Boosting (gb) and Neural Network (nn)\n",
    "auc_roc_gb = roc_auc_score(y_test, y_prob_gb)\n",
    "auc_roc_svm = roc_auc_score(y_test, y_prob_svm)\n",
    "auc_roc_nn = roc_auc_score(y_test, y_prob_nn)"
   ]
  },
  {
   "cell_type": "markdown",
   "id": "8d275e16",
   "metadata": {},
   "source": [
    "#### Step 4: Plotting ROC Curve"
   ]
  },
  {
   "cell_type": "code",
   "execution_count": 107,
   "id": "37cbe434",
   "metadata": {},
   "outputs": [
    {
     "data": {
      "image/png": "[encoded data removed]",
      "text/plain": [
       "<Figure size 800x600 with 1 Axes>"
      ]
     },
     "metadata": {},
     "output_type": "display_data"
    }
   ],
   "source": [
    "fpr_rf, tpr_rf, _ = roc_curve(y_test, y_prob_rf)\n",
    "fpr_gb, tpr_gb, _ = roc_curve(y_test, y_prob_gb)\n",
    "fpr_svm, tpr_svm, _ = roc_curve(y_test, y_prob_svm)\n",
    "fpr_nn, tpr_nn, _ = roc_curve(y_test, y_prob_nn)\n",
    "\n",
    "plt.figure()\n",
    "plt.plot(fpr_rf, tpr_rf, label='Random Forest (area = %0.2f)' % auc_roc_rf)\n",
    "plt.plot(fpr_gb, tpr_gb, label='Gradient Boosting (area = %0.2f)' % auc_roc_gb)\n",
    "plt.plot(fpr_svm, tpr_svm, label='SVM (area = %0.2f)' % auc_roc_gb)\n",
    "plt.plot(fpr_nn, tpr_nn, label='Neural Network (area = %0.2f)' % auc_roc_nn)\n",
    "\n",
    "plt.plot([0, 1], [0, 1], 'k--')  # Random predictions curve\n",
    "plt.xlim([0.0, 1.0])\n",
    "plt.ylim([0.0, 1.05])\n",
    "plt.xlabel('False Positive Rate')\n",
    "plt.ylabel('True Positive Rate')\n",
    "plt.title('Receiver Operating Characteristic')\n",
    "plt.legend(loc=\"lower right\")\n",
    "plt.show()\n"
   ]
  },
  {
   "cell_type": "markdown",
   "id": "c723b8da",
   "metadata": {},
   "source": [
    "## charts showing the performance and comparison of different models"
   ]
  },
  {
   "cell_type": "markdown",
   "id": "e86aaedb",
   "metadata": {},
   "source": [
    "For the sake of illustration, let's assume we have the following performance metrics from evaluating Random Forest, Gradient Boosting, SVM, and Neural Network models on the test set:\n",
    "\n",
    "| Model             | Accuracy | AUC-ROC |\n",
    "|-------------------|----------|---------|\n",
    "| Random Forest     | 0.94     | 0.97    |\n",
    "| Gradient Boosting | 0.92     | 0.96    |\n",
    "| SVM               | 0.92     | 0.96    |\n",
    "| Neural Network    | 0.93     | 0.97    |"
   ]
  },
  {
   "cell_type": "markdown",
   "id": "9bbb1f3a",
   "metadata": {},
   "source": [
    "- A bar chart comparing the accuracy of different models.\n",
    "- A bar chart comparing the AUC-ROC scores of different models."
   ]
  },
  {
   "cell_type": "code",
   "execution_count": 108,
   "id": "7b748674",
   "metadata": {},
   "outputs": [
    {
     "data": {
      "image/png": "[encoded data removed]",
      "text/plain": [
       "<Figure size 1200x600 with 1 Axes>"
      ]
     },
     "metadata": {},
     "output_type": "display_data"
    }
   ],
   "source": [
    "import matplotlib.pyplot as plt\n",
    "import numpy as np\n",
    "\n",
    "# Model names\n",
    "models = ['Random Forest', 'Gradient Boosting', 'SVM', 'Neural Network']\n",
    "\n",
    "# Performance metrics\n",
    "accuracy_scores = [0.94, 0.92, 0.92, 0.93]\n",
    "auc_roc_scores = [0.97, 0.96, 0.96, 0.97]\n",
    "\n",
    "# Setting up the bar width\n",
    "barWidth = 0.3\n",
    "\n",
    "# Set position of bar on X axis\n",
    "r1 = np.arange(len(accuracy_scores))\n",
    "r2 = [x + barWidth for x in r1]\n",
    "\n",
    "# Create the plots\n",
    "plt.figure(figsize=(12, 6))\n",
    "\n",
    "# Plotting accuracy\n",
    "plt.bar(r1, accuracy_scores, color='b', width=barWidth, edgecolor='grey', label='Accuracy')\n",
    "\n",
    "# Plotting AUC-ROC\n",
    "plt.bar(r2, auc_roc_scores, color='g', width=barWidth, edgecolor='grey', label='AUC-ROC')\n",
    "\n",
    "# Adding the aesthetics\n",
    "plt.xlabel('Model', fontweight='bold', fontsize=15)\n",
    "plt.ylabel('Scores', fontweight='bold', fontsize=15)\n",
    "plt.xticks([r + barWidth for r in range(len(accuracy_scores))], models)\n",
    "\n",
    "# Add legend\n",
    "plt.legend()\n",
    "\n",
    "# Show the plot\n",
    "plt.title('Model Performance Comparison')\n",
    "plt.show()\n"
   ]
  }
 ],
 "metadata": {
  "kernelspec": {
   "display_name": "Python 3 (ipykernel)",
   "language": "python",
   "name": "python3"
  },
  "language_info": {
   "codemirror_mode": {
    "name": "ipython",
    "version": 3
   },
   "file_extension": ".py",
   "mimetype": "text/x-python",
   "name": "python",
   "nbconvert_exporter": "python",
   "pygments_lexer": "ipython3",
   "version": "3.9.15"
  }
 },
 "nbformat": 4,
 "nbformat_minor": 5
}
