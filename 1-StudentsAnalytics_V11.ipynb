{
 "cells": [
  {
   "cell_type": "markdown",
   "id": "d1539ec4",
   "metadata": {},
   "source": [
    "# Capstone project: International Student Recruitment Analytics\n",
    "# Group 3\n",
    "    - Rishikesh Gaikwad\t                    Student ID 0812570\n",
    "    - Fei Gao\t                              Student ID 0822295\n",
    "    - Ankitkumar Kamleshbhai Padhiar \t      Student ID 0803142\n",
    "    - Abhigna Reddy Sudini\t                 Student ID 0813526\n",
    "---"
   ]
  },
  {
   "cell_type": "markdown",
   "id": "9f1a7c6d",
   "metadata": {},
   "source": [
    "### Change Log\n",
    "\n",
    "    -RGCL01- date 13/11/2023 - Adding new columns to the data set 'test_type_st' and 'uid'\n",
    "    -FGCL02- date 15/11/2023 - Cancelling 4 columns dropped, i.e. declared_student_id, application_resubmitted_date, proof_of_payment_date, offer_conditions. Changing output file from students_min.xlsx to students_max.xlsx  \n",
    "    -FGCL03- date 15/11/2023 dropping duplications. Output file is students_clean.xlsx for making dashboard."
   ]
  },
  {
   "cell_type": "markdown",
   "id": "b9799e43",
   "metadata": {},
   "source": [
    "# Part1 - Data cleaning"
   ]
  },
  {
   "cell_type": "markdown",
   "id": "140e7f55",
   "metadata": {},
   "source": [
    "## Import necessory libraries"
   ]
  },
  {
   "cell_type": "code",
   "execution_count": 1,
   "id": "fa8930f3",
   "metadata": {},
   "outputs": [],
   "source": [
    "import numpy as np # linear algebra\n",
    "import pandas as pd # data processing, CSV file I/O (e.g. pd.read_csv)\n",
    "\n",
    "import matplotlib.pyplot as plt#visualization\n",
    "%matplotlib inline\n",
    "from matplotlib import rcParams\n",
    "rcParams['figure.figsize'] = 5,4\n",
    "\n",
    "import seaborn as sns#visualization\n",
    "import plotly.offline as py#visualization\n",
    "import plotly.graph_objs as go#visualization\n",
    "import warnings\n",
    "warnings.filterwarnings(\"ignore\")"
   ]
  },
  {
   "cell_type": "code",
   "execution_count": 2,
   "id": "62f18785",
   "metadata": {},
   "outputs": [],
   "source": [
    "#!pip install openpyxl"
   ]
  },
  {
   "cell_type": "markdown",
   "id": "8a74d79f",
   "metadata": {},
   "source": [
    "## Read the dataset"
   ]
  },
  {
   "cell_type": "code",
   "execution_count": 3,
   "id": "d067dac2",
   "metadata": {},
   "outputs": [],
   "source": [
    "st_raw = pd.read_excel('students.xlsx')# read the original file"
   ]
  },
  {
   "cell_type": "code",
   "execution_count": 4,
   "id": "9b59a34d",
   "metadata": {},
   "outputs": [
    {
     "data": {
      "text/html": [
       "<div>\n",
       "<style scoped>\n",
       "    .dataframe tbody tr th:only-of-type {\n",
       "        vertical-align: middle;\n",
       "    }\n",
       "\n",
       "    .dataframe tbody tr th {\n",
       "        vertical-align: top;\n",
       "    }\n",
       "\n",
       "    .dataframe thead th {\n",
       "        text-align: right;\n",
       "    }\n",
       "</style>\n",
       "<table border=\"1\" class=\"dataframe\">\n",
       "  <thead>\n",
       "    <tr style=\"text-align: right;\">\n",
       "      <th></th>\n",
       "      <th>Enrolled</th>\n",
       "      <th>Applicant Number</th>\n",
       "      <th>Mailing Address Postal/Zip Code</th>\n",
       "      <th>Primary Citizenship</th>\n",
       "      <th>Mother Tongue</th>\n",
       "      <th>Country Of Birth</th>\n",
       "      <th>Date Of Birth</th>\n",
       "      <th>Status in Canada</th>\n",
       "      <th>Current Country of Residence</th>\n",
       "      <th>Current Province of Residence</th>\n",
       "      <th>...</th>\n",
       "      <th>Pre-Registration Date</th>\n",
       "      <th>Withdraw Reason</th>\n",
       "      <th>Revoke Reason</th>\n",
       "      <th>Other Reason</th>\n",
       "      <th>Decline Reason</th>\n",
       "      <th>Decline Other Reason</th>\n",
       "      <th>Declined - Accepted Offer at another institution</th>\n",
       "      <th>Declined - Accepted Offer in another country</th>\n",
       "      <th>Deferral Offer Date</th>\n",
       "      <th>Refund Offer Date</th>\n",
       "    </tr>\n",
       "  </thead>\n",
       "  <tbody>\n",
       "    <tr>\n",
       "      <th>0</th>\n",
       "      <td>False</td>\n",
       "      <td>X1981866</td>\n",
       "      <td>L7C 3B6</td>\n",
       "      <td>India</td>\n",
       "      <td>Panjabi; Punjabi</td>\n",
       "      <td>India</td>\n",
       "      <td>1996-12-20</td>\n",
       "      <td>Study Permit / Student Visa</td>\n",
       "      <td>Canada</td>\n",
       "      <td>Ontario</td>\n",
       "      <td>...</td>\n",
       "      <td>NaT</td>\n",
       "      <td>NaN</td>\n",
       "      <td>Payment Not Received</td>\n",
       "      <td>NaN</td>\n",
       "      <td>NaN</td>\n",
       "      <td>NaN</td>\n",
       "      <td>NaN</td>\n",
       "      <td>NaN</td>\n",
       "      <td>NaT</td>\n",
       "      <td>NaT</td>\n",
       "    </tr>\n",
       "    <tr>\n",
       "      <th>1</th>\n",
       "      <td>True</td>\n",
       "      <td>X1981905</td>\n",
       "      <td>152123</td>\n",
       "      <td>India</td>\n",
       "      <td>Panjabi; Punjabi</td>\n",
       "      <td>India</td>\n",
       "      <td>2003-01-10</td>\n",
       "      <td>No status in Canada</td>\n",
       "      <td>India</td>\n",
       "      <td>Punjab</td>\n",
       "      <td>...</td>\n",
       "      <td>NaT</td>\n",
       "      <td>NaN</td>\n",
       "      <td>No Seats Available in the Selected Intake</td>\n",
       "      <td>NaN</td>\n",
       "      <td>NaN</td>\n",
       "      <td>NaN</td>\n",
       "      <td>NaN</td>\n",
       "      <td>NaN</td>\n",
       "      <td>2023-02-18 01:30:08.910</td>\n",
       "      <td>NaT</td>\n",
       "    </tr>\n",
       "    <tr>\n",
       "      <th>2</th>\n",
       "      <td>True</td>\n",
       "      <td>X1981905</td>\n",
       "      <td>152123</td>\n",
       "      <td>India</td>\n",
       "      <td>Panjabi; Punjabi</td>\n",
       "      <td>India</td>\n",
       "      <td>2003-01-10</td>\n",
       "      <td>No status in Canada</td>\n",
       "      <td>India</td>\n",
       "      <td>Punjab</td>\n",
       "      <td>...</td>\n",
       "      <td>2023-03-02 07:09:29.926</td>\n",
       "      <td>NaN</td>\n",
       "      <td>NaN</td>\n",
       "      <td>NaN</td>\n",
       "      <td>NaN</td>\n",
       "      <td>NaN</td>\n",
       "      <td>NaN</td>\n",
       "      <td>NaN</td>\n",
       "      <td>NaT</td>\n",
       "      <td>NaT</td>\n",
       "    </tr>\n",
       "    <tr>\n",
       "      <th>3</th>\n",
       "      <td>False</td>\n",
       "      <td>X1965783</td>\n",
       "      <td>151504</td>\n",
       "      <td>India</td>\n",
       "      <td>Panjabi; Punjabi</td>\n",
       "      <td>India</td>\n",
       "      <td>1998-03-15</td>\n",
       "      <td>No status in Canada</td>\n",
       "      <td>India</td>\n",
       "      <td>Punjab</td>\n",
       "      <td>...</td>\n",
       "      <td>NaT</td>\n",
       "      <td>Visa Rejected</td>\n",
       "      <td>No Seats Available in the Selected Intake</td>\n",
       "      <td>NaN</td>\n",
       "      <td>NaN</td>\n",
       "      <td>NaN</td>\n",
       "      <td>NaN</td>\n",
       "      <td>NaN</td>\n",
       "      <td>NaT</td>\n",
       "      <td>2023-03-31 13:17:07.542</td>\n",
       "    </tr>\n",
       "    <tr>\n",
       "      <th>4</th>\n",
       "      <td>False</td>\n",
       "      <td>X1965783</td>\n",
       "      <td>151504</td>\n",
       "      <td>India</td>\n",
       "      <td>Panjabi; Punjabi</td>\n",
       "      <td>India</td>\n",
       "      <td>1998-03-15</td>\n",
       "      <td>No status in Canada</td>\n",
       "      <td>India</td>\n",
       "      <td>Punjab</td>\n",
       "      <td>...</td>\n",
       "      <td>NaT</td>\n",
       "      <td>NaN</td>\n",
       "      <td>No Seats Available in the Selected Intake</td>\n",
       "      <td>NaN</td>\n",
       "      <td>NaN</td>\n",
       "      <td>NaN</td>\n",
       "      <td>NaN</td>\n",
       "      <td>NaN</td>\n",
       "      <td>NaT</td>\n",
       "      <td>NaT</td>\n",
       "    </tr>\n",
       "  </tbody>\n",
       "</table>\n",
       "<p>5 rows × 61 columns</p>\n",
       "</div>"
      ],
      "text/plain": [
       "   Enrolled Applicant Number Mailing Address Postal/Zip Code  \\\n",
       "0     False         X1981866                         L7C 3B6   \n",
       "1      True         X1981905                          152123   \n",
       "2      True         X1981905                          152123   \n",
       "3     False         X1965783                          151504   \n",
       "4     False         X1965783                          151504   \n",
       "\n",
       "  Primary Citizenship     Mother Tongue Country Of Birth Date Of Birth  \\\n",
       "0               India  Panjabi; Punjabi            India    1996-12-20   \n",
       "1               India  Panjabi; Punjabi            India    2003-01-10   \n",
       "2               India  Panjabi; Punjabi            India    2003-01-10   \n",
       "3               India  Panjabi; Punjabi            India    1998-03-15   \n",
       "4               India  Panjabi; Punjabi            India    1998-03-15   \n",
       "\n",
       "              Status in Canada Current Country of Residence  \\\n",
       "0  Study Permit / Student Visa                       Canada   \n",
       "1          No status in Canada                        India   \n",
       "2          No status in Canada                        India   \n",
       "3          No status in Canada                        India   \n",
       "4          No status in Canada                        India   \n",
       "\n",
       "  Current Province of Residence  ...   Pre-Registration Date Withdraw Reason  \\\n",
       "0                       Ontario  ...                     NaT             NaN   \n",
       "1                        Punjab  ...                     NaT             NaN   \n",
       "2                        Punjab  ... 2023-03-02 07:09:29.926             NaN   \n",
       "3                        Punjab  ...                     NaT   Visa Rejected   \n",
       "4                        Punjab  ...                     NaT             NaN   \n",
       "\n",
       "                               Revoke Reason Other Reason Decline Reason  \\\n",
       "0                       Payment Not Received          NaN            NaN   \n",
       "1  No Seats Available in the Selected Intake          NaN            NaN   \n",
       "2                                        NaN          NaN            NaN   \n",
       "3  No Seats Available in the Selected Intake          NaN            NaN   \n",
       "4  No Seats Available in the Selected Intake          NaN            NaN   \n",
       "\n",
       "  Decline Other Reason Declined - Accepted Offer at another institution  \\\n",
       "0                  NaN                                              NaN   \n",
       "1                  NaN                                              NaN   \n",
       "2                  NaN                                              NaN   \n",
       "3                  NaN                                              NaN   \n",
       "4                  NaN                                              NaN   \n",
       "\n",
       "  Declined - Accepted Offer in another country     Deferral Offer Date  \\\n",
       "0                                          NaN                     NaT   \n",
       "1                                          NaN 2023-02-18 01:30:08.910   \n",
       "2                                          NaN                     NaT   \n",
       "3                                          NaN                     NaT   \n",
       "4                                          NaN                     NaT   \n",
       "\n",
       "        Refund Offer Date  \n",
       "0                     NaT  \n",
       "1                     NaT  \n",
       "2                     NaT  \n",
       "3 2023-03-31 13:17:07.542  \n",
       "4                     NaT  \n",
       "\n",
       "[5 rows x 61 columns]"
      ]
     },
     "execution_count": 4,
     "metadata": {},
     "output_type": "execute_result"
    }
   ],
   "source": [
    "st = st_raw.copy() # make a copy\n",
    "st.head() # data overview"
   ]
  },
  {
   "cell_type": "code",
   "execution_count": 5,
   "id": "65235ed5",
   "metadata": {},
   "outputs": [
    {
     "name": "stdout",
     "output_type": "stream",
     "text": [
      "<class 'pandas.core.frame.DataFrame'>\n",
      "RangeIndex: 46331 entries, 0 to 46330\n",
      "Data columns (total 61 columns):\n",
      " #   Column                                            Non-Null Count  Dtype         \n",
      "---  ------                                            --------------  -----         \n",
      " 0   Enrolled                                          46331 non-null  bool          \n",
      " 1   Applicant Number                                  46331 non-null  object        \n",
      " 2   Mailing Address Postal/Zip Code                   43238 non-null  object        \n",
      " 3   Primary Citizenship                               46331 non-null  object        \n",
      " 4   Mother Tongue                                     46331 non-null  object        \n",
      " 5   Country Of Birth                                  46331 non-null  object        \n",
      " 6   Date Of Birth                                     46331 non-null  datetime64[ns]\n",
      " 7   Status in Canada                                  46331 non-null  object        \n",
      " 8   Current Country of Residence                      46331 non-null  object        \n",
      " 9   Current Province of Residence                     46331 non-null  object        \n",
      " 10  English Proficiency Type                          46331 non-null  object        \n",
      " 11  Overall Score                                     40336 non-null  object        \n",
      " 12  Test Type                                         40765 non-null  object        \n",
      " 13  Applicant Type                                    46331 non-null  object        \n",
      " 14  Declared Student Id                               1120 non-null   object        \n",
      " 15  Profile Last Modified Date                        46331 non-null  datetime64[ns]\n",
      " 16  Application Info Due Date                         1 non-null      object        \n",
      " 17  Agency Name                                       40542 non-null  object        \n",
      " 18  Application Number                                46331 non-null  object        \n",
      " 19  Application State                                 46331 non-null  object        \n",
      " 20  Program Selection Added Date                      46331 non-null  datetime64[ns]\n",
      " 21  Program Choice Rank                               31995 non-null  float64       \n",
      " 22  Program Title                                     46331 non-null  object        \n",
      " 23  Program Code                                      46331 non-null  object        \n",
      " 24  Campus Name                                       46331 non-null  object        \n",
      " 25  Program Term                                      46331 non-null  object        \n",
      " 26  Program Start Date                                46331 non-null  datetime64[ns]\n",
      " 27  Future Program Selection                          0 non-null      float64       \n",
      " 28  Supporting Document Visitor Visa                  46331 non-null  int64         \n",
      " 29  Supporting Document Approval In Principle         46331 non-null  int64         \n",
      " 30  Supporting Document Co Op Work Permit             46331 non-null  int64         \n",
      " 31  Supporting Document Study Permit                  46331 non-null  int64         \n",
      " 32  Supporting Document Visa Approval Letter          46331 non-null  int64         \n",
      " 33  Application Submitted Date                        46331 non-null  datetime64[ns]\n",
      " 34  Application Resubmitted Date                      2833 non-null   datetime64[ns]\n",
      " 35  Screening Status                                  46331 non-null  object        \n",
      " 36  Screened Date                                     44428 non-null  datetime64[ns]\n",
      " 37  Application Last Modified Date                    46331 non-null  datetime64[ns]\n",
      " 38  Offer State                                       43101 non-null  object        \n",
      " 39  Proof of Payment Date                             13975 non-null  datetime64[ns]\n",
      " 40  Program Decision State                            46331 non-null  object        \n",
      " 41  Conditions?                                       43101 non-null  object        \n",
      " 42  Offer Conditions                                  235 non-null    object        \n",
      " 43  Offer Date                                        43101 non-null  datetime64[ns]\n",
      " 44  Issued Date                                       43101 non-null  datetime64[ns]\n",
      " 45  Expiration Date                                   43101 non-null  datetime64[ns]\n",
      " 46  Pre-Admit Expiration Date                         0 non-null      float64       \n",
      " 47  Offer Accepted Date                               36081 non-null  datetime64[ns]\n",
      " 48  Deposit Due Date                                  10 non-null     object        \n",
      " 49  Paid Date                                         25862 non-null  datetime64[ns]\n",
      " 50  Proof of Payment Provided                         46331 non-null  bool          \n",
      " 51  Pre-Registration Date                             11720 non-null  datetime64[ns]\n",
      " 52  Withdraw Reason                                   12773 non-null  object        \n",
      " 53  Revoke Reason                                     16294 non-null  object        \n",
      " 54  Other Reason                                      3433 non-null   object        \n",
      " 55  Decline Reason                                    617 non-null    object        \n",
      " 56  Decline Other Reason                              536 non-null    object        \n",
      " 57  Declined - Accepted Offer at another institution  8 non-null      object        \n",
      " 58  Declined - Accepted Offer in another country      0 non-null      float64       \n",
      " 59  Deferral Offer Date                               4174 non-null   datetime64[ns]\n",
      " 60  Refund Offer Date                                 7007 non-null   datetime64[ns]\n",
      "dtypes: bool(2), datetime64[ns](17), float64(4), int64(5), object(33)\n",
      "memory usage: 20.9+ MB\n"
     ]
    }
   ],
   "source": [
    "st.info()"
   ]
  },
  {
   "cell_type": "markdown",
   "id": "c748369b",
   "metadata": {},
   "source": [
    "### Rename the column name"
   ]
  },
  {
   "cell_type": "code",
   "execution_count": 6,
   "id": "467032a7",
   "metadata": {},
   "outputs": [
    {
     "data": {
      "text/plain": [
       "Index(['Enrolled', 'Applicant Number', 'Mailing Address Postal/Zip Code',\n",
       "       'Primary Citizenship', 'Mother Tongue', 'Country Of Birth',\n",
       "       'Date Of Birth', 'Status in Canada', 'Current Country of Residence',\n",
       "       'Current Province of Residence', 'English Proficiency Type',\n",
       "       'Overall Score', 'Test Type', 'Applicant Type', 'Declared Student Id',\n",
       "       'Profile Last Modified Date', 'Application Info Due Date',\n",
       "       'Agency Name', 'Application Number', 'Application State',\n",
       "       'Program Selection Added Date', 'Program Choice Rank', 'Program Title',\n",
       "       'Program Code', 'Campus Name', 'Program Term', 'Program Start Date',\n",
       "       'Future Program Selection', 'Supporting Document Visitor Visa',\n",
       "       'Supporting Document Approval In Principle',\n",
       "       'Supporting Document Co Op Work Permit',\n",
       "       'Supporting Document Study Permit',\n",
       "       'Supporting Document Visa Approval Letter',\n",
       "       'Application Submitted Date', 'Application Resubmitted Date',\n",
       "       'Screening Status', 'Screened Date', 'Application Last Modified Date',\n",
       "       'Offer State', 'Proof of Payment Date', 'Program Decision State',\n",
       "       'Conditions?', 'Offer Conditions', 'Offer Date', 'Issued Date',\n",
       "       'Expiration Date', 'Pre-Admit Expiration Date', 'Offer Accepted Date',\n",
       "       'Deposit Due Date', 'Paid Date', 'Proof of Payment Provided',\n",
       "       'Pre-Registration Date', 'Withdraw Reason', 'Revoke Reason',\n",
       "       'Other Reason', 'Decline Reason', 'Decline Other Reason',\n",
       "       'Declined - Accepted Offer at another institution',\n",
       "       'Declined - Accepted Offer in another country', 'Deferral Offer Date',\n",
       "       'Refund Offer Date'],\n",
       "      dtype='object')"
      ]
     },
     "execution_count": 6,
     "metadata": {},
     "output_type": "execute_result"
    }
   ],
   "source": [
    "st.columns"
   ]
  },
  {
   "cell_type": "code",
   "execution_count": 7,
   "id": "e6774e6f",
   "metadata": {},
   "outputs": [],
   "source": [
    "# Replace spaces with underscores and convert column names to lowercase\n",
    "st.columns = st.columns.str.replace('/', '_').str.replace(' - ', '_').str.replace(' ', '_').str.lower()"
   ]
  },
  {
   "cell_type": "code",
   "execution_count": 8,
   "id": "02b9b7f9",
   "metadata": {},
   "outputs": [
    {
     "data": {
      "text/plain": [
       "Index(['enrolled', 'applicant_number', 'mailing_address_postal_zip_code',\n",
       "       'primary_citizenship', 'mother_tongue', 'country_of_birth',\n",
       "       'date_of_birth', 'status_in_canada', 'current_country_of_residence',\n",
       "       'current_province_of_residence', 'english_proficiency_type',\n",
       "       'overall_score', 'test_type', 'applicant_type', 'declared_student_id',\n",
       "       'profile_last_modified_date', 'application_info_due_date',\n",
       "       'agency_name', 'application_number', 'application_state',\n",
       "       'program_selection_added_date', 'program_choice_rank', 'program_title',\n",
       "       'program_code', 'campus_name', 'program_term', 'program_start_date',\n",
       "       'future_program_selection', 'supporting_document_visitor_visa',\n",
       "       'supporting_document_approval_in_principle',\n",
       "       'supporting_document_co_op_work_permit',\n",
       "       'supporting_document_study_permit',\n",
       "       'supporting_document_visa_approval_letter',\n",
       "       'application_submitted_date', 'application_resubmitted_date',\n",
       "       'screening_status', 'screened_date', 'application_last_modified_date',\n",
       "       'offer_state', 'proof_of_payment_date', 'program_decision_state',\n",
       "       'conditions?', 'offer_conditions', 'offer_date', 'issued_date',\n",
       "       'expiration_date', 'pre-admit_expiration_date', 'offer_accepted_date',\n",
       "       'deposit_due_date', 'paid_date', 'proof_of_payment_provided',\n",
       "       'pre-registration_date', 'withdraw_reason', 'revoke_reason',\n",
       "       'other_reason', 'decline_reason', 'decline_other_reason',\n",
       "       'declined_accepted_offer_at_another_institution',\n",
       "       'declined_accepted_offer_in_another_country', 'deferral_offer_date',\n",
       "       'refund_offer_date'],\n",
       "      dtype='object')"
      ]
     },
     "execution_count": 8,
     "metadata": {},
     "output_type": "execute_result"
    }
   ],
   "source": [
    "st.columns"
   ]
  },
  {
   "cell_type": "markdown",
   "id": "19eaf484",
   "metadata": {},
   "source": [
    "### Check for duplications"
   ]
  },
  {
   "cell_type": "markdown",
   "id": "d86c0a5b",
   "metadata": {},
   "source": [
    "Why are there duplications in the dataset? How to deal with the dupications?"
   ]
  },
  {
   "cell_type": "code",
   "execution_count": 9,
   "id": "83f11c42",
   "metadata": {
    "scrolled": true
   },
   "outputs": [
    {
     "data": {
      "text/plain": [
       "1516"
      ]
     },
     "execution_count": 9,
     "metadata": {},
     "output_type": "execute_result"
    }
   ],
   "source": [
    "st.duplicated().sum()"
   ]
  },
  {
   "cell_type": "code",
   "execution_count": 10,
   "id": "40761acb",
   "metadata": {
    "scrolled": false
   },
   "outputs": [
    {
     "data": {
      "text/html": [
       "<div>\n",
       "<style scoped>\n",
       "    .dataframe tbody tr th:only-of-type {\n",
       "        vertical-align: middle;\n",
       "    }\n",
       "\n",
       "    .dataframe tbody tr th {\n",
       "        vertical-align: top;\n",
       "    }\n",
       "\n",
       "    .dataframe thead th {\n",
       "        text-align: right;\n",
       "    }\n",
       "</style>\n",
       "<table border=\"1\" class=\"dataframe\">\n",
       "  <thead>\n",
       "    <tr style=\"text-align: right;\">\n",
       "      <th></th>\n",
       "      <th>enrolled</th>\n",
       "      <th>applicant_number</th>\n",
       "      <th>mailing_address_postal_zip_code</th>\n",
       "      <th>primary_citizenship</th>\n",
       "      <th>mother_tongue</th>\n",
       "      <th>country_of_birth</th>\n",
       "      <th>date_of_birth</th>\n",
       "      <th>status_in_canada</th>\n",
       "      <th>current_country_of_residence</th>\n",
       "      <th>current_province_of_residence</th>\n",
       "      <th>...</th>\n",
       "      <th>pre-registration_date</th>\n",
       "      <th>withdraw_reason</th>\n",
       "      <th>revoke_reason</th>\n",
       "      <th>other_reason</th>\n",
       "      <th>decline_reason</th>\n",
       "      <th>decline_other_reason</th>\n",
       "      <th>declined_accepted_offer_at_another_institution</th>\n",
       "      <th>declined_accepted_offer_in_another_country</th>\n",
       "      <th>deferral_offer_date</th>\n",
       "      <th>refund_offer_date</th>\n",
       "    </tr>\n",
       "  </thead>\n",
       "  <tbody>\n",
       "    <tr>\n",
       "      <th>6</th>\n",
       "      <td>False</td>\n",
       "      <td>X1965844</td>\n",
       "      <td>NaN</td>\n",
       "      <td>Jordan</td>\n",
       "      <td>Arabic</td>\n",
       "      <td>Jordan</td>\n",
       "      <td>2002-09-05</td>\n",
       "      <td>No status in Canada</td>\n",
       "      <td>Jordan</td>\n",
       "      <td>Irbid</td>\n",
       "      <td>...</td>\n",
       "      <td>NaT</td>\n",
       "      <td>Visa Rejected</td>\n",
       "      <td>NaN</td>\n",
       "      <td>NaN</td>\n",
       "      <td>NaN</td>\n",
       "      <td>NaN</td>\n",
       "      <td>NaN</td>\n",
       "      <td>NaN</td>\n",
       "      <td>NaT</td>\n",
       "      <td>NaT</td>\n",
       "    </tr>\n",
       "    <tr>\n",
       "      <th>100</th>\n",
       "      <td>True</td>\n",
       "      <td>X1963784</td>\n",
       "      <td>7042</td>\n",
       "      <td>Bangladesh</td>\n",
       "      <td>Bengali</td>\n",
       "      <td>Bangladesh</td>\n",
       "      <td>2004-02-20</td>\n",
       "      <td>No status in Canada</td>\n",
       "      <td>Bangladesh</td>\n",
       "      <td>Khulna</td>\n",
       "      <td>...</td>\n",
       "      <td>NaT</td>\n",
       "      <td>Other</td>\n",
       "      <td>NaN</td>\n",
       "      <td>apply for EAP-23S and B851-23F</td>\n",
       "      <td>NaN</td>\n",
       "      <td>NaN</td>\n",
       "      <td>NaN</td>\n",
       "      <td>NaN</td>\n",
       "      <td>NaT</td>\n",
       "      <td>NaT</td>\n",
       "    </tr>\n",
       "    <tr>\n",
       "      <th>101</th>\n",
       "      <td>True</td>\n",
       "      <td>X1963784</td>\n",
       "      <td>7042</td>\n",
       "      <td>Bangladesh</td>\n",
       "      <td>Bengali</td>\n",
       "      <td>Bangladesh</td>\n",
       "      <td>2004-02-20</td>\n",
       "      <td>No status in Canada</td>\n",
       "      <td>Bangladesh</td>\n",
       "      <td>Khulna</td>\n",
       "      <td>...</td>\n",
       "      <td>NaT</td>\n",
       "      <td>Other</td>\n",
       "      <td>NaN</td>\n",
       "      <td>apply for EAP-23S and B851-23F</td>\n",
       "      <td>NaN</td>\n",
       "      <td>NaN</td>\n",
       "      <td>NaN</td>\n",
       "      <td>NaN</td>\n",
       "      <td>NaT</td>\n",
       "      <td>NaT</td>\n",
       "    </tr>\n",
       "    <tr>\n",
       "      <th>113</th>\n",
       "      <td>False</td>\n",
       "      <td>X1977613</td>\n",
       "      <td>11194</td>\n",
       "      <td>Jordan</td>\n",
       "      <td>Arabic</td>\n",
       "      <td>Jordan</td>\n",
       "      <td>2004-02-04</td>\n",
       "      <td>No status in Canada</td>\n",
       "      <td>Jordan</td>\n",
       "      <td>‘Ammān</td>\n",
       "      <td>...</td>\n",
       "      <td>NaT</td>\n",
       "      <td>NaN</td>\n",
       "      <td>NaN</td>\n",
       "      <td>NaN</td>\n",
       "      <td>NaN</td>\n",
       "      <td>NaN</td>\n",
       "      <td>NaN</td>\n",
       "      <td>NaN</td>\n",
       "      <td>NaT</td>\n",
       "      <td>NaT</td>\n",
       "    </tr>\n",
       "    <tr>\n",
       "      <th>150</th>\n",
       "      <td>False</td>\n",
       "      <td>X1983756</td>\n",
       "      <td>NaN</td>\n",
       "      <td>Jordan</td>\n",
       "      <td>Arabic</td>\n",
       "      <td>Jordan</td>\n",
       "      <td>2002-08-19</td>\n",
       "      <td>No status in Canada</td>\n",
       "      <td>Jordan</td>\n",
       "      <td>ʽAjlūn</td>\n",
       "      <td>...</td>\n",
       "      <td>NaT</td>\n",
       "      <td>Visa Rejected</td>\n",
       "      <td>NaN</td>\n",
       "      <td>NaN</td>\n",
       "      <td>NaN</td>\n",
       "      <td>NaN</td>\n",
       "      <td>NaN</td>\n",
       "      <td>NaN</td>\n",
       "      <td>NaT</td>\n",
       "      <td>NaT</td>\n",
       "    </tr>\n",
       "    <tr>\n",
       "      <th>...</th>\n",
       "      <td>...</td>\n",
       "      <td>...</td>\n",
       "      <td>...</td>\n",
       "      <td>...</td>\n",
       "      <td>...</td>\n",
       "      <td>...</td>\n",
       "      <td>...</td>\n",
       "      <td>...</td>\n",
       "      <td>...</td>\n",
       "      <td>...</td>\n",
       "      <td>...</td>\n",
       "      <td>...</td>\n",
       "      <td>...</td>\n",
       "      <td>...</td>\n",
       "      <td>...</td>\n",
       "      <td>...</td>\n",
       "      <td>...</td>\n",
       "      <td>...</td>\n",
       "      <td>...</td>\n",
       "      <td>...</td>\n",
       "      <td>...</td>\n",
       "    </tr>\n",
       "    <tr>\n",
       "      <th>46198</th>\n",
       "      <td>False</td>\n",
       "      <td>X1842302</td>\n",
       "      <td>1900</td>\n",
       "      <td>Bangladesh</td>\n",
       "      <td>Bengali</td>\n",
       "      <td>Bangladesh</td>\n",
       "      <td>1988-06-12</td>\n",
       "      <td>No status in Canada</td>\n",
       "      <td>Bangladesh</td>\n",
       "      <td>Tangail</td>\n",
       "      <td>...</td>\n",
       "      <td>NaT</td>\n",
       "      <td>NaN</td>\n",
       "      <td>NaN</td>\n",
       "      <td>NaN</td>\n",
       "      <td>Other</td>\n",
       "      <td>Fall term is passed.</td>\n",
       "      <td>NaN</td>\n",
       "      <td>NaN</td>\n",
       "      <td>NaT</td>\n",
       "      <td>NaT</td>\n",
       "    </tr>\n",
       "    <tr>\n",
       "      <th>46214</th>\n",
       "      <td>False</td>\n",
       "      <td>X1854693</td>\n",
       "      <td>1194</td>\n",
       "      <td>Jordan</td>\n",
       "      <td>Arabic</td>\n",
       "      <td>United Arab Emirates</td>\n",
       "      <td>1996-06-30</td>\n",
       "      <td>No status in Canada</td>\n",
       "      <td>Jordan</td>\n",
       "      <td>‘Ammān</td>\n",
       "      <td>...</td>\n",
       "      <td>NaT</td>\n",
       "      <td>NaN</td>\n",
       "      <td>NaN</td>\n",
       "      <td>NaN</td>\n",
       "      <td>NaN</td>\n",
       "      <td>NaN</td>\n",
       "      <td>NaN</td>\n",
       "      <td>NaN</td>\n",
       "      <td>NaT</td>\n",
       "      <td>NaT</td>\n",
       "    </tr>\n",
       "    <tr>\n",
       "      <th>46215</th>\n",
       "      <td>False</td>\n",
       "      <td>X1854693</td>\n",
       "      <td>1194</td>\n",
       "      <td>Jordan</td>\n",
       "      <td>Arabic</td>\n",
       "      <td>United Arab Emirates</td>\n",
       "      <td>1996-06-30</td>\n",
       "      <td>No status in Canada</td>\n",
       "      <td>Jordan</td>\n",
       "      <td>‘Ammān</td>\n",
       "      <td>...</td>\n",
       "      <td>NaT</td>\n",
       "      <td>NaN</td>\n",
       "      <td>NaN</td>\n",
       "      <td>NaN</td>\n",
       "      <td>NaN</td>\n",
       "      <td>NaN</td>\n",
       "      <td>NaN</td>\n",
       "      <td>NaN</td>\n",
       "      <td>NaT</td>\n",
       "      <td>NaT</td>\n",
       "    </tr>\n",
       "    <tr>\n",
       "      <th>46220</th>\n",
       "      <td>True</td>\n",
       "      <td>X1840522</td>\n",
       "      <td>262804</td>\n",
       "      <td>India</td>\n",
       "      <td>Panjabi; Punjabi</td>\n",
       "      <td>India</td>\n",
       "      <td>2002-02-25</td>\n",
       "      <td>No status in Canada</td>\n",
       "      <td>India</td>\n",
       "      <td>Uttar Pradesh</td>\n",
       "      <td>...</td>\n",
       "      <td>2022-11-21 16:44:04.093</td>\n",
       "      <td>NaN</td>\n",
       "      <td>NaN</td>\n",
       "      <td>NaN</td>\n",
       "      <td>NaN</td>\n",
       "      <td>NaN</td>\n",
       "      <td>NaN</td>\n",
       "      <td>NaN</td>\n",
       "      <td>NaT</td>\n",
       "      <td>NaT</td>\n",
       "    </tr>\n",
       "    <tr>\n",
       "      <th>46251</th>\n",
       "      <td>True</td>\n",
       "      <td>X1840522</td>\n",
       "      <td>262804</td>\n",
       "      <td>India</td>\n",
       "      <td>Panjabi; Punjabi</td>\n",
       "      <td>India</td>\n",
       "      <td>2002-02-25</td>\n",
       "      <td>No status in Canada</td>\n",
       "      <td>India</td>\n",
       "      <td>Uttar Pradesh</td>\n",
       "      <td>...</td>\n",
       "      <td>2022-11-21 16:44:04.093</td>\n",
       "      <td>NaN</td>\n",
       "      <td>NaN</td>\n",
       "      <td>NaN</td>\n",
       "      <td>NaN</td>\n",
       "      <td>NaN</td>\n",
       "      <td>NaN</td>\n",
       "      <td>NaN</td>\n",
       "      <td>NaT</td>\n",
       "      <td>NaT</td>\n",
       "    </tr>\n",
       "  </tbody>\n",
       "</table>\n",
       "<p>2999 rows × 61 columns</p>\n",
       "</div>"
      ],
      "text/plain": [
       "       enrolled applicant_number mailing_address_postal_zip_code  \\\n",
       "6         False         X1965844                             NaN   \n",
       "100        True         X1963784                            7042   \n",
       "101        True         X1963784                            7042   \n",
       "113       False         X1977613                           11194   \n",
       "150       False         X1983756                             NaN   \n",
       "...         ...              ...                             ...   \n",
       "46198     False         X1842302                            1900   \n",
       "46214     False         X1854693                            1194   \n",
       "46215     False         X1854693                            1194   \n",
       "46220      True         X1840522                          262804   \n",
       "46251      True         X1840522                          262804   \n",
       "\n",
       "      primary_citizenship     mother_tongue      country_of_birth  \\\n",
       "6                  Jordan            Arabic                Jordan   \n",
       "100            Bangladesh           Bengali            Bangladesh   \n",
       "101            Bangladesh           Bengali            Bangladesh   \n",
       "113                Jordan            Arabic                Jordan   \n",
       "150                Jordan            Arabic                Jordan   \n",
       "...                   ...               ...                   ...   \n",
       "46198          Bangladesh           Bengali            Bangladesh   \n",
       "46214              Jordan            Arabic  United Arab Emirates   \n",
       "46215              Jordan            Arabic  United Arab Emirates   \n",
       "46220               India  Panjabi; Punjabi                 India   \n",
       "46251               India  Panjabi; Punjabi                 India   \n",
       "\n",
       "      date_of_birth     status_in_canada current_country_of_residence  \\\n",
       "6        2002-09-05  No status in Canada                       Jordan   \n",
       "100      2004-02-20  No status in Canada                   Bangladesh   \n",
       "101      2004-02-20  No status in Canada                   Bangladesh   \n",
       "113      2004-02-04  No status in Canada                       Jordan   \n",
       "150      2002-08-19  No status in Canada                       Jordan   \n",
       "...             ...                  ...                          ...   \n",
       "46198    1988-06-12  No status in Canada                   Bangladesh   \n",
       "46214    1996-06-30  No status in Canada                       Jordan   \n",
       "46215    1996-06-30  No status in Canada                       Jordan   \n",
       "46220    2002-02-25  No status in Canada                        India   \n",
       "46251    2002-02-25  No status in Canada                        India   \n",
       "\n",
       "      current_province_of_residence  ...   pre-registration_date  \\\n",
       "6                             Irbid  ...                     NaT   \n",
       "100                          Khulna  ...                     NaT   \n",
       "101                          Khulna  ...                     NaT   \n",
       "113                          ‘Ammān  ...                     NaT   \n",
       "150                          ʽAjlūn  ...                     NaT   \n",
       "...                             ...  ...                     ...   \n",
       "46198                       Tangail  ...                     NaT   \n",
       "46214                        ‘Ammān  ...                     NaT   \n",
       "46215                        ‘Ammān  ...                     NaT   \n",
       "46220                 Uttar Pradesh  ... 2022-11-21 16:44:04.093   \n",
       "46251                 Uttar Pradesh  ... 2022-11-21 16:44:04.093   \n",
       "\n",
       "      withdraw_reason revoke_reason                    other_reason  \\\n",
       "6       Visa Rejected           NaN                             NaN   \n",
       "100             Other           NaN  apply for EAP-23S and B851-23F   \n",
       "101             Other           NaN  apply for EAP-23S and B851-23F   \n",
       "113               NaN           NaN                             NaN   \n",
       "150     Visa Rejected           NaN                             NaN   \n",
       "...               ...           ...                             ...   \n",
       "46198             NaN           NaN                             NaN   \n",
       "46214             NaN           NaN                             NaN   \n",
       "46215             NaN           NaN                             NaN   \n",
       "46220             NaN           NaN                             NaN   \n",
       "46251             NaN           NaN                             NaN   \n",
       "\n",
       "      decline_reason  decline_other_reason  \\\n",
       "6                NaN                   NaN   \n",
       "100              NaN                   NaN   \n",
       "101              NaN                   NaN   \n",
       "113              NaN                   NaN   \n",
       "150              NaN                   NaN   \n",
       "...              ...                   ...   \n",
       "46198          Other  Fall term is passed.   \n",
       "46214            NaN                   NaN   \n",
       "46215            NaN                   NaN   \n",
       "46220            NaN                   NaN   \n",
       "46251            NaN                   NaN   \n",
       "\n",
       "      declined_accepted_offer_at_another_institution  \\\n",
       "6                                                NaN   \n",
       "100                                              NaN   \n",
       "101                                              NaN   \n",
       "113                                              NaN   \n",
       "150                                              NaN   \n",
       "...                                              ...   \n",
       "46198                                            NaN   \n",
       "46214                                            NaN   \n",
       "46215                                            NaN   \n",
       "46220                                            NaN   \n",
       "46251                                            NaN   \n",
       "\n",
       "      declined_accepted_offer_in_another_country deferral_offer_date  \\\n",
       "6                                            NaN                 NaT   \n",
       "100                                          NaN                 NaT   \n",
       "101                                          NaN                 NaT   \n",
       "113                                          NaN                 NaT   \n",
       "150                                          NaN                 NaT   \n",
       "...                                          ...                 ...   \n",
       "46198                                        NaN                 NaT   \n",
       "46214                                        NaN                 NaT   \n",
       "46215                                        NaN                 NaT   \n",
       "46220                                        NaN                 NaT   \n",
       "46251                                        NaN                 NaT   \n",
       "\n",
       "      refund_offer_date  \n",
       "6                   NaT  \n",
       "100                 NaT  \n",
       "101                 NaT  \n",
       "113                 NaT  \n",
       "150                 NaT  \n",
       "...                 ...  \n",
       "46198               NaT  \n",
       "46214               NaT  \n",
       "46215               NaT  \n",
       "46220               NaT  \n",
       "46251               NaT  \n",
       "\n",
       "[2999 rows x 61 columns]"
      ]
     },
     "execution_count": 10,
     "metadata": {},
     "output_type": "execute_result"
    }
   ],
   "source": [
    "duplicate_rows = st[st.duplicated(keep=False)]\n",
    "duplicate_rows"
   ]
  },
  {
   "cell_type": "code",
   "execution_count": 11,
   "id": "bf559dd0",
   "metadata": {},
   "outputs": [],
   "source": [
    "st.drop_duplicates(inplace = True)"
   ]
  },
  {
   "cell_type": "code",
   "execution_count": 12,
   "id": "063f7404",
   "metadata": {},
   "outputs": [
    {
     "data": {
      "text/plain": [
       "(44815, 61)"
      ]
     },
     "execution_count": 12,
     "metadata": {},
     "output_type": "execute_result"
    }
   ],
   "source": [
    "st.shape #46331-1516 = 44815"
   ]
  },
  {
   "cell_type": "markdown",
   "id": "476b91a6",
   "metadata": {},
   "source": [
    "### Check for missing values"
   ]
  },
  {
   "cell_type": "code",
   "execution_count": 13,
   "id": "6b7670a1",
   "metadata": {},
   "outputs": [
    {
     "name": "stdout",
     "output_type": "stream",
     "text": [
      "mailing_address_postal_zip_code                   42208\n",
      "overall_score                                     39989\n",
      "test_type                                         40400\n",
      "declared_student_id                                1069\n",
      "application_info_due_date                             1\n",
      "agency_name                                       39851\n",
      "program_choice_rank                               31995\n",
      "future_program_selection                              0\n",
      "application_resubmitted_date                       2712\n",
      "screened_date                                     42912\n",
      "offer_state                                       41585\n",
      "proof_of_payment_date                             13803\n",
      "conditions?                                       41585\n",
      "offer_conditions                                    234\n",
      "offer_date                                        41585\n",
      "issued_date                                       41585\n",
      "expiration_date                                   41585\n",
      "pre-admit_expiration_date                             0\n",
      "offer_accepted_date                               35198\n",
      "deposit_due_date                                     10\n",
      "paid_date                                         25465\n",
      "pre-registration_date                             11491\n",
      "withdraw_reason                                   12515\n",
      "revoke_reason                                     16094\n",
      "other_reason                                       3371\n",
      "decline_reason                                      474\n",
      "decline_other_reason                                398\n",
      "declined_accepted_offer_at_another_institution        8\n",
      "declined_accepted_offer_in_another_country            0\n",
      "deferral_offer_date                                4115\n",
      "refund_offer_date                                  6962\n",
      "dtype: int64\n"
     ]
    }
   ],
   "source": [
    "non_null_counts = st.count()\n",
    "non_null_columns = non_null_counts[non_null_counts < 44581]\n",
    "print(non_null_columns)"
   ]
  },
  {
   "cell_type": "markdown",
   "id": "488ea4b3",
   "metadata": {},
   "source": [
    "#### Delete 6 columns with non-null value fewer than 11."
   ]
  },
  {
   "cell_type": "code",
   "execution_count": 14,
   "id": "58b46ff4",
   "metadata": {},
   "outputs": [],
   "source": [
    "# Calculate the count of non-null values in each column\n",
    "non_null_counts = st.count()\n",
    "\n",
    "# Filter and drop columns with counts less than 11\n",
    "threshold = 11\n",
    "columns_to_drop = non_null_counts[non_null_counts < threshold].index\n",
    "st.drop(columns=columns_to_drop, inplace=True)"
   ]
  },
  {
   "cell_type": "code",
   "execution_count": 15,
   "id": "68e788e1",
   "metadata": {},
   "outputs": [
    {
     "data": {
      "text/plain": [
       "(44815, 55)"
      ]
     },
     "execution_count": 15,
     "metadata": {},
     "output_type": "execute_result"
    }
   ],
   "source": [
    "st.shape"
   ]
  },
  {
   "cell_type": "code",
   "execution_count": 16,
   "id": "8108638d",
   "metadata": {},
   "outputs": [
    {
     "name": "stdout",
     "output_type": "stream",
     "text": [
      "mailing_address_postal_zip_code    42208\n",
      "overall_score                      39989\n",
      "test_type                          40400\n",
      "declared_student_id                 1069\n",
      "agency_name                        39851\n",
      "program_choice_rank                31995\n",
      "application_resubmitted_date        2712\n",
      "screened_date                      42912\n",
      "offer_state                        41585\n",
      "proof_of_payment_date              13803\n",
      "conditions?                        41585\n",
      "offer_conditions                     234\n",
      "offer_date                         41585\n",
      "issued_date                        41585\n",
      "expiration_date                    41585\n",
      "offer_accepted_date                35198\n",
      "paid_date                          25465\n",
      "pre-registration_date              11491\n",
      "withdraw_reason                    12515\n",
      "revoke_reason                      16094\n",
      "other_reason                        3371\n",
      "decline_reason                       474\n",
      "decline_other_reason                 398\n",
      "deferral_offer_date                 4115\n",
      "refund_offer_date                   6962\n",
      "dtype: int64\n"
     ]
    }
   ],
   "source": [
    "non_null_counts = st.count()\n",
    "non_null_columns = non_null_counts[non_null_counts < len(st)]\n",
    "print(non_null_columns)"
   ]
  },
  {
   "cell_type": "markdown",
   "id": "36c9084f",
   "metadata": {},
   "source": [
    "###### No column has only unique values."
   ]
  },
  {
   "cell_type": "code",
   "execution_count": 17,
   "id": "80d3c9fb",
   "metadata": {},
   "outputs": [
    {
     "data": {
      "text/plain": [
       "33589"
      ]
     },
     "execution_count": 17,
     "metadata": {},
     "output_type": "execute_result"
    }
   ],
   "source": [
    "st.applicant_number.nunique()"
   ]
  },
  {
   "cell_type": "code",
   "execution_count": 18,
   "id": "4073292f",
   "metadata": {
    "scrolled": true
   },
   "outputs": [
    {
     "data": {
      "text/plain": [
       "36327"
      ]
     },
     "execution_count": 18,
     "metadata": {},
     "output_type": "execute_result"
    }
   ],
   "source": [
    "st.application_number.nunique()"
   ]
  },
  {
   "cell_type": "markdown",
   "id": "0fa6226e",
   "metadata": {},
   "source": [
    "###### mailing_address_postal/zip_code"
   ]
  },
  {
   "cell_type": "code",
   "execution_count": 19,
   "id": "f7fe9832",
   "metadata": {
    "scrolled": false
   },
   "outputs": [
    {
     "data": {
      "text/plain": [
       "array(['L7C 3B6', '152123', '151504', ..., 'TN25 4PH', '10150', '14522'],\n",
       "      dtype=object)"
      ]
     },
     "execution_count": 19,
     "metadata": {},
     "output_type": "execute_result"
    }
   ],
   "source": [
    "st['mailing_address_postal_zip_code'].unique()"
   ]
  },
  {
   "cell_type": "code",
   "execution_count": 20,
   "id": "5198fd05",
   "metadata": {},
   "outputs": [
    {
     "data": {
      "text/plain": [
       "6442"
      ]
     },
     "execution_count": 20,
     "metadata": {},
     "output_type": "execute_result"
    }
   ],
   "source": [
    "st['mailing_address_postal_zip_code'].nunique()"
   ]
  },
  {
   "cell_type": "code",
   "execution_count": 21,
   "id": "3c89c4f0",
   "metadata": {},
   "outputs": [
    {
     "data": {
      "text/plain": [
       "143401    1026\n",
       "143001     626\n",
       "146001     478\n",
       "11194      467\n",
       "143505     343\n",
       "147001     319\n",
       "144001     304\n",
       "144601     279\n",
       "144401     256\n",
       "144002     253\n",
       "Name: mailing_address_postal_zip_code, dtype: int64"
      ]
     },
     "execution_count": 21,
     "metadata": {},
     "output_type": "execute_result"
    }
   ],
   "source": [
    "st['mailing_address_postal_zip_code'].value_counts().head(10)"
   ]
  },
  {
   "cell_type": "markdown",
   "id": "58197346",
   "metadata": {},
   "source": [
    "###### overall_score"
   ]
  },
  {
   "cell_type": "code",
   "execution_count": 22,
   "id": "d57493e5",
   "metadata": {
    "scrolled": true
   },
   "outputs": [
    {
     "data": {
      "text/plain": [
       "213"
      ]
     },
     "execution_count": 22,
     "metadata": {},
     "output_type": "execute_result"
    }
   ],
   "source": [
    "st.overall_score.nunique()"
   ]
  },
  {
   "cell_type": "markdown",
   "id": "bf640cb8",
   "metadata": {},
   "source": [
    "###### test_type"
   ]
  },
  {
   "cell_type": "code",
   "execution_count": 23,
   "id": "70473379",
   "metadata": {
    "scrolled": true
   },
   "outputs": [
    {
     "data": {
      "text/plain": [
       "12"
      ]
     },
     "execution_count": 23,
     "metadata": {},
     "output_type": "execute_result"
    }
   ],
   "source": [
    "st.test_type.nunique()"
   ]
  },
  {
   "cell_type": "code",
   "execution_count": 24,
   "id": "4b690eb6",
   "metadata": {
    "scrolled": false
   },
   "outputs": [
    {
     "data": {
      "text/plain": [
       "IELTS                                               33407\n",
       "Pearson Language Test Evaluation                     4388\n",
       "Duolingo                                             1401\n",
       "TOEFL                                                 500\n",
       "Other                                                 402\n",
       "English Pathway School                                201\n",
       "EAP                                                    62\n",
       "International Test of English Proficiency (iTEP)       23\n",
       "Cambridge                                               8\n",
       "MET (Michigan English Test)                             4\n",
       "CEFR                                                    3\n",
       "CAEL                                                    1\n",
       "Name: test_type, dtype: int64"
      ]
     },
     "execution_count": 24,
     "metadata": {},
     "output_type": "execute_result"
    }
   ],
   "source": [
    "st.test_type.value_counts()"
   ]
  },
  {
   "cell_type": "markdown",
   "id": "f05c9d87",
   "metadata": {},
   "source": [
    "## preprocess the 'overall_score' column"
   ]
  },
  {
   "cell_type": "code",
   "execution_count": 25,
   "id": "aba040d9",
   "metadata": {
    "scrolled": false
   },
   "outputs": [
    {
     "data": {
      "text/plain": [
       "test_type\n",
       "CAEL                                                                                            [nan]\n",
       "CEFR                                                                                        [nan, C1]\n",
       "Cambridge                                           [178, nan, B, 6.0 (Overall Band Score), 6.0, 3.5]\n",
       "Duolingo                                            [105, 135, 100, nan, 115, 130, 125, 120, 110, ...\n",
       "EAP                                                 [nan, Pass, 110, B, 41, 64, 71, undefined, 85,...\n",
       "English Pathway School                              [nan, B, 3.4, 75, 77, undefined, PW 3.2, 90, P...\n",
       "IELTS                                               [6.0, 6, 6.5, 7, 7.0, 7.5, 5.5, 57, 8.0, nan, ...\n",
       "International Test of English Proficiency (iTEP)            [6, 6.5, 7.0, nan, 6.0, 7.5, 5.2, 8.0, 7]\n",
       "MET (Michigan English Test)                                                          [61, 17.50, nan]\n",
       "Other                                               [undefined, nan, 6.0, 64, Grade B, Pass, 105, ...\n",
       "Pearson Language Test Evaluation                    [58, undefined, 57, 67, 60, 54, 66, 64, 70, 53...\n",
       "TOEFL                                               [103, 94, 101, 87, 96, 98, 95, 100, 111, 72, 7...\n",
       "Name: overall_score, dtype: object"
      ]
     },
     "execution_count": 25,
     "metadata": {},
     "output_type": "execute_result"
    }
   ],
   "source": [
    "score = st.groupby('test_type')['overall_score'].unique()\n",
    "score"
   ]
  },
  {
   "cell_type": "markdown",
   "id": "22621ca1",
   "metadata": {},
   "source": [
    "### IELTS"
   ]
  },
  {
   "cell_type": "code",
   "execution_count": 26,
   "id": "4d851530",
   "metadata": {
    "scrolled": true
   },
   "outputs": [
    {
     "data": {
      "text/plain": [
       "array(['6.0', '6', '6.5', '7', '7.0', '7.5', '5.5', '57', '8.0', nan,\n",
       "       '58', 'undefined', '8', '6.35', '00', '5.0', '2022-08-20', '5',\n",
       "       '8.5', '2022-12-10', '65', '68', '2022-08-18', '2023-03-02',\n",
       "       '6.5.', '4.5', '59', '2.5', '2022-12-28', '70', '4.0', '55', '06',\n",
       "       '605', \"'7.0\", '2023-04-29',\n",
       "       'Please review my expired IELTS. It is attached with the documents',\n",
       "       '6.6', '7 bands', '2022-07-09', '3.5', 'L-6,R-6.5,w-6,sp-7.5',\n",
       "       'N.A', '62', '3.0', '56', '6.o', '60', '63', '2022-01-29',\n",
       "       '2022-07-23', '2023-02-18', '61', 'OBS 6.0', '2022-07-30', '54',\n",
       "       '.6.5', '6.0`', 'Over all - 6', '6.5`', '0', '2022-01-13', '0.0',\n",
       "       '4,5', '2022-04-30', '6.00', '6.'], dtype=object)"
      ]
     },
     "execution_count": 26,
     "metadata": {},
     "output_type": "execute_result"
    }
   ],
   "source": [
    "st.loc[st['test_type']=='IELTS','overall_score'].unique()"
   ]
  },
  {
   "cell_type": "code",
   "execution_count": 27,
   "id": "358e5e49",
   "metadata": {},
   "outputs": [],
   "source": [
    "st.loc[st['test_type'] == 'IELTS', 'overall_score'] = st.loc[st['test_type'] == 'IELTS', 'overall_score'].replace(\n",
    "                                                        {'57':'5','58':'5','6.35':'6','00':'0','65':'6','68':'6','6.5.':'6.5',\n",
    "                                                          '59':'5','70':'7','55':'5','06':'6','605':'6.5','\\'7.0':'7','6.6':'6.5',\n",
    "                                                          '62':'6','56':'5','6.o':'6','60':'6','63':'6','61':'6','54':'5',\n",
    "                                                         '.6.5':'6.5',\n",
    "                                                          '6.0`':'6','6.5`':'6.5','4,5':'4.5','6.00':'6','6.':'6',\n",
    "                                                          'undefined':np.nan,\n",
    "                                                          '2022-08-20':np.nan,'2022-12-10':np.nan,\n",
    "                                                          '2022-08-18':np.nan, '2023-03-02':np.nan,\n",
    "                                                          '2022-12-28':np.nan,'2023-04-29':np.nan,\n",
    "                                                          '2022-07-09':np.nan,'2022-01-29':np.nan,\n",
    "                                                          '2022-07-23':np.nan, '2023-02-18':np.nan,\n",
    "                                                          '2022-01-13':np.nan,'2022-04-30':np.nan,\n",
    "                                                          '2022-07-30':np.nan,\n",
    "                                                          'Please review my expired IELTS. It is attached with the documents':np.nan,\n",
    "                                                          '7 bands':'7','L-6,R-6.5,w-6,sp-7.5':'7',\n",
    "                                                          'N.A':np.nan,\n",
    "                                                          'OBS 6.0':'6',\n",
    "                                                          'Over all - 6':'6'})"
   ]
  },
  {
   "cell_type": "code",
   "execution_count": 28,
   "id": "d6da3c56",
   "metadata": {
    "scrolled": true
   },
   "outputs": [
    {
     "data": {
      "text/plain": [
       "array(['6.0', '6', '6.5', '7', '7.0', '7.5', '5.5', '5', '8.0', nan, '8',\n",
       "       '0', '5.0', '8.5', '4.5', '2.5', '4.0', '3.5', '3.0', '0.0'],\n",
       "      dtype=object)"
      ]
     },
     "execution_count": 28,
     "metadata": {},
     "output_type": "execute_result"
    }
   ],
   "source": [
    "st.loc[st['test_type']=='IELTS','overall_score'].unique()"
   ]
  },
  {
   "cell_type": "markdown",
   "id": "71e29384",
   "metadata": {},
   "source": [
    "---"
   ]
  },
  {
   "cell_type": "markdown",
   "id": "fc3394cc",
   "metadata": {},
   "source": [
    "### Pearson Language Test Evaluation"
   ]
  },
  {
   "cell_type": "code",
   "execution_count": 29,
   "id": "4677390c",
   "metadata": {
    "scrolled": false
   },
   "outputs": [
    {
     "data": {
      "text/plain": [
       "array(['58', 'undefined', '57', '67', '60', '54', '66', '64', '70', '53',\n",
       "       '56', '63', '55', '59', '62', '74', '81', '61', '65', '51', nan,\n",
       "       '68', '76', '52', '72', '71', '79', '73', '69', '80', '2022-12-24',\n",
       "       '77', '86', '90', '89', '78', '50', '88', '00', '75', '82', '87',\n",
       "       '2023-04-08', '85', '2023-04-05', '83', '84', '135', '2022-08-08',\n",
       "       'Overall: 64', '6.0', '60.0', 'Overall: 54', 'Overall',\n",
       "       '2021-11-03', '0'], dtype=object)"
      ]
     },
     "execution_count": 29,
     "metadata": {},
     "output_type": "execute_result"
    }
   ],
   "source": [
    "st.loc[st['test_type']=='Pearson Language Test Evaluation','overall_score'].unique()"
   ]
  },
  {
   "cell_type": "code",
   "execution_count": 30,
   "id": "624d3733",
   "metadata": {
    "scrolled": false
   },
   "outputs": [],
   "source": [
    "st.loc[st['test_type'] == 'Pearson Language Test Evaluation', 'overall_score'] = st.loc[st['test_type']=='Pearson Language Test Evaluation','overall_score'].replace(\n",
    "                                                                                    {'undefined':np.nan,\n",
    "                                                                                     '6.0':'52','60.0':'60','135':'80',\n",
    "                                                                                     'Overall: 54':'54',\n",
    "                                                                                     '2023-04-05':np.nan,\n",
    "                                                                                     '2023-04-08':np.nan,\n",
    "                                                                                     '2022-08-08':np.nan,\n",
    "                                                                                     'Overall: 64':'64',\n",
    "                                                                                     '2022-12-24':np.nan,\n",
    "                                                                                     '2021-11-03':np.nan,\n",
    "                                                                                     'Overall':np.nan})"
   ]
  },
  {
   "cell_type": "code",
   "execution_count": 31,
   "id": "b1db37eb",
   "metadata": {
    "scrolled": true
   },
   "outputs": [
    {
     "data": {
      "text/plain": [
       "array(['58', nan, '57', '67', '60', '54', '66', '64', '70', '53', '56',\n",
       "       '63', '55', '59', '62', '74', '81', '61', '65', '51', '68', '76',\n",
       "       '52', '72', '71', '79', '73', '69', '80', '77', '86', '90', '89',\n",
       "       '78', '50', '88', '00', '75', '82', '87', '85', '83', '84', '0'],\n",
       "      dtype=object)"
      ]
     },
     "execution_count": 31,
     "metadata": {},
     "output_type": "execute_result"
    }
   ],
   "source": [
    "st.loc[st['test_type']=='Pearson Language Test Evaluation','overall_score'].unique()"
   ]
  },
  {
   "cell_type": "markdown",
   "id": "8ffc8abc",
   "metadata": {},
   "source": [
    "---"
   ]
  },
  {
   "cell_type": "markdown",
   "id": "ad59d005",
   "metadata": {},
   "source": [
    "### Duolingo"
   ]
  },
  {
   "cell_type": "code",
   "execution_count": 32,
   "id": "0b22a3ed",
   "metadata": {
    "scrolled": false
   },
   "outputs": [
    {
     "data": {
      "text/plain": [
       "array(['105', '135', '100', nan, '115', '130', '125', '120', '110', '80',\n",
       "       '45', '145', '85', '35', '95',\n",
       "       'Literacy: 95 Comprehension: 105 Conversation: 90 Production: 75',\n",
       "       'undefined', '70', '40', '75', '140', '50', '60', '65', '90',\n",
       "       '75/160', '120 overall', 'Advance', '145/160', '105-115',\n",
       "       'Overall: 105', '6385XP', '15', '150', '149', '61', '20', '6.5'],\n",
       "      dtype=object)"
      ]
     },
     "execution_count": 32,
     "metadata": {},
     "output_type": "execute_result"
    }
   ],
   "source": [
    "st.loc[st['test_type']=='Duolingo','overall_score'].unique()"
   ]
  },
  {
   "cell_type": "code",
   "execution_count": 33,
   "id": "6410b2c0",
   "metadata": {
    "scrolled": true
   },
   "outputs": [],
   "source": [
    "st.loc[st['test_type']=='Duolingo','overall_score'] = st.loc[st['test_type']=='Duolingo','overall_score'].replace(\n",
    "                                                             {'undefined':np.nan,\n",
    "                                                              'Literacy: 95 Comprehension: 105 Conversation: 90 Production: 75':'105',\n",
    "                                                              '75/160':'75',\n",
    "                                                              'Overall: 105':'105',\n",
    "                                                              'Advance':'90',\n",
    "                                                              '105-115':'105',\n",
    "                                                              '6385XP':np.nan,\n",
    "                                                              '145/160':'145',\n",
    "                                                              '120 overall':'120',\n",
    "                                                              '6.5':'105'})"
   ]
  },
  {
   "cell_type": "code",
   "execution_count": 34,
   "id": "f48d7702",
   "metadata": {
    "scrolled": true
   },
   "outputs": [
    {
     "data": {
      "text/plain": [
       "array(['105', '135', '100', nan, '115', '130', '125', '120', '110', '80',\n",
       "       '45', '145', '85', '35', '95', '70', '40', '75', '140', '50', '60',\n",
       "       '65', '90', '15', '150', '149', '61', '20'], dtype=object)"
      ]
     },
     "execution_count": 34,
     "metadata": {},
     "output_type": "execute_result"
    }
   ],
   "source": [
    "st.loc[st['test_type']=='Duolingo','overall_score'].unique()"
   ]
  },
  {
   "cell_type": "markdown",
   "id": "7d0e7309",
   "metadata": {},
   "source": [
    "---"
   ]
  },
  {
   "cell_type": "markdown",
   "id": "93b39d47",
   "metadata": {},
   "source": [
    "### TOEFL"
   ]
  },
  {
   "cell_type": "code",
   "execution_count": 35,
   "id": "e03059c3",
   "metadata": {
    "scrolled": true
   },
   "outputs": [
    {
     "data": {
      "text/plain": [
       "array(['103', '94', '101', '87', '96', '98', '95', '100', '111', '72',\n",
       "       '7.5', '97', '89', '104', '110', '85', '99', '79', '108', '102',\n",
       "       '84', '105', '109', '106', '92', '113', '91', '88', '90', '69',\n",
       "       '114', '107', '117', '93', '68', '86', '62', '78', '115', '81',\n",
       "       '112', '46', '74', '77', '83', '58', '120', '53', '82', nan,\n",
       "       'Overall: 100', '7', '76'], dtype=object)"
      ]
     },
     "execution_count": 35,
     "metadata": {},
     "output_type": "execute_result"
    }
   ],
   "source": [
    "st.loc[st['test_type']=='TOEFL','overall_score'].unique()"
   ]
  },
  {
   "cell_type": "code",
   "execution_count": 36,
   "id": "12ccae8d",
   "metadata": {},
   "outputs": [],
   "source": [
    "st.loc[st['test_type']=='TOEFL','overall_score'] = st.loc[st['test_type']=='TOEFL','overall_score'].replace(\n",
    "                                                             {'7.5':'102',\n",
    "                                                              'Overall: 100':'100',\n",
    "                                                              '7':'94'})"
   ]
  },
  {
   "cell_type": "code",
   "execution_count": 37,
   "id": "bbb9178c",
   "metadata": {
    "scrolled": true
   },
   "outputs": [
    {
     "data": {
      "text/plain": [
       "array(['103', '94', '101', '87', '96', '98', '95', '100', '111', '72',\n",
       "       '102', '97', '89', '104', '110', '85', '99', '79', '108', '84',\n",
       "       '105', '109', '106', '92', '113', '91', '88', '90', '69', '114',\n",
       "       '107', '117', '93', '68', '86', '62', '78', '115', '81', '112',\n",
       "       '46', '74', '77', '83', '58', '120', '53', '82', nan, '76'],\n",
       "      dtype=object)"
      ]
     },
     "execution_count": 37,
     "metadata": {},
     "output_type": "execute_result"
    }
   ],
   "source": [
    "st.loc[st['test_type']=='TOEFL','overall_score'].unique()"
   ]
  },
  {
   "cell_type": "markdown",
   "id": "fe102211",
   "metadata": {},
   "source": [
    "---"
   ]
  },
  {
   "cell_type": "markdown",
   "id": "8ec231ac",
   "metadata": {},
   "source": [
    "### Other "
   ]
  },
  {
   "cell_type": "code",
   "execution_count": 38,
   "id": "6dc3c97d",
   "metadata": {
    "scrolled": false
   },
   "outputs": [
    {
     "data": {
      "text/plain": [
       "array(['undefined', nan, '6.0', '64', 'Grade B', 'Pass', '105', '55',\n",
       "       '6.5', '66', '87', '6', 'A', '6.0.', '115', '3.4', '60', '80',\n",
       "       '3.3', '58', 'distinction', '89', '145/160', '75', '96', '56',\n",
       "       '78', 'A2', '50', '3', '125', '130', 'B1.1', '90', '88', '1', 'C',\n",
       "       '73', 'C6', '98', '948', '950', '85', 'B3', '570', '17', '6.25',\n",
       "       'Grade II', '59', '100', '512.5', '945', '2022-06-20', '57', '110',\n",
       "       '70', '83', '4 Grammer, 3 Writting', '3.2', 'PASS', 'pass',\n",
       "       'Level 8', '140', '7.5', '159', '120', 'c1', 'Passed', '91', '65',\n",
       "       'Excellent', '2', '85%', '135', '62', '61', '71', '76', '77', '86',\n",
       "       '4', '67', 'B2', '82', '52'], dtype=object)"
      ]
     },
     "execution_count": 38,
     "metadata": {},
     "output_type": "execute_result"
    }
   ],
   "source": [
    "st.loc[st['test_type']=='Other','overall_score'].unique()"
   ]
  },
  {
   "cell_type": "code",
   "execution_count": 39,
   "id": "20eff982",
   "metadata": {},
   "outputs": [],
   "source": [
    "st.loc[st['test_type']=='Other','overall_score'] = np.nan"
   ]
  },
  {
   "cell_type": "code",
   "execution_count": 40,
   "id": "165d1bb4",
   "metadata": {},
   "outputs": [
    {
     "data": {
      "text/plain": [
       "array([nan], dtype=object)"
      ]
     },
     "execution_count": 40,
     "metadata": {},
     "output_type": "execute_result"
    }
   ],
   "source": [
    "st.loc[st['test_type']=='Other','overall_score'].unique()"
   ]
  },
  {
   "cell_type": "code",
   "execution_count": 41,
   "id": "379fa47b",
   "metadata": {
    "scrolled": false
   },
   "outputs": [
    {
     "data": {
      "text/plain": [
       "array([nan, 'B', '3.4', '75', '77', 'undefined', 'PW 3.2', '90', 'PW 3.3',\n",
       "       'PW3.4', 'Pathway 3.4', '80', '7.0', 'Very Good', '98', '89', '71',\n",
       "       '82', '79', '97', '58', 'PW 3.4', '81', '84', '6.5', '73', '95',\n",
       "       '71.5', 'pw3.4', '87', '81%', '6.0', '3.2', '94', 'very good',\n",
       "       'Level PW 3.3', '91', 'ILAC 3.4', '85', '80 hours, Level (3)',\n",
       "       '76', 'C1', '88', '86%', 'The third level', 'Level 3', '68%'],\n",
       "      dtype=object)"
      ]
     },
     "execution_count": 41,
     "metadata": {},
     "output_type": "execute_result"
    }
   ],
   "source": [
    "st.loc[st['test_type']=='English Pathway School','overall_score'].unique()"
   ]
  },
  {
   "cell_type": "code",
   "execution_count": 42,
   "id": "dd9e37e4",
   "metadata": {},
   "outputs": [],
   "source": [
    "st.loc[st['test_type']=='English Pathway School','overall_score'] = np.nan"
   ]
  },
  {
   "cell_type": "code",
   "execution_count": 43,
   "id": "7a11acf8",
   "metadata": {
    "scrolled": false
   },
   "outputs": [
    {
     "data": {
      "text/plain": [
       "array([nan, 'Pass', '110', 'B', '41', '64', '71', 'undefined', '85',\n",
       "       'Level3', '89'], dtype=object)"
      ]
     },
     "execution_count": 43,
     "metadata": {},
     "output_type": "execute_result"
    }
   ],
   "source": [
    "st.loc[st['test_type']=='EAP','overall_score'].unique()"
   ]
  },
  {
   "cell_type": "code",
   "execution_count": 44,
   "id": "befadd84",
   "metadata": {},
   "outputs": [],
   "source": [
    "st.loc[st['test_type']=='EAP','overall_score']=np.nan"
   ]
  },
  {
   "cell_type": "markdown",
   "id": "7597ee5d",
   "metadata": {},
   "source": [
    "#### iTEP reture score directly"
   ]
  },
  {
   "cell_type": "code",
   "execution_count": 45,
   "id": "aa300c58",
   "metadata": {
    "scrolled": false
   },
   "outputs": [
    {
     "data": {
      "text/plain": [
       "array(['6', '6.5', '7.0', nan, '6.0', '7.5', '5.2', '8.0', '7'],\n",
       "      dtype=object)"
      ]
     },
     "execution_count": 45,
     "metadata": {},
     "output_type": "execute_result"
    }
   ],
   "source": [
    "st.loc[st['test_type']=='International Test of English Proficiency (iTEP)','overall_score'].unique()"
   ]
  },
  {
   "cell_type": "code",
   "execution_count": 46,
   "id": "aabc673d",
   "metadata": {},
   "outputs": [],
   "source": [
    "st.loc[st['test_type']=='International Test of English Proficiency (iTEP)','overall_score'] = st.loc[st['test_type']=='International Test of English Proficiency (iTEP)','overall_score'].replace('5.2','5.0')"
   ]
  },
  {
   "cell_type": "code",
   "execution_count": 47,
   "id": "22310551",
   "metadata": {},
   "outputs": [
    {
     "data": {
      "text/plain": [
       "array(['6', '6.5', '7.0', nan, '6.0', '7.5', '5.0', '8.0', '7'],\n",
       "      dtype=object)"
      ]
     },
     "execution_count": 47,
     "metadata": {},
     "output_type": "execute_result"
    }
   ],
   "source": [
    "st.loc[st['test_type']=='International Test of English Proficiency (iTEP)','overall_score'].unique()"
   ]
  },
  {
   "cell_type": "markdown",
   "id": "054b8210",
   "metadata": {},
   "source": [
    "---"
   ]
  },
  {
   "cell_type": "markdown",
   "id": "04d185d8",
   "metadata": {},
   "source": [
    "#### Cambridge"
   ]
  },
  {
   "cell_type": "code",
   "execution_count": 48,
   "id": "f634a488",
   "metadata": {},
   "outputs": [
    {
     "data": {
      "text/plain": [
       "array(['178', nan, 'B', '6.0 (Overall Band Score)', '6.0', '3.5'],\n",
       "      dtype=object)"
      ]
     },
     "execution_count": 48,
     "metadata": {},
     "output_type": "execute_result"
    }
   ],
   "source": [
    "st.loc[st['test_type']=='Cambridge','overall_score'].unique()"
   ]
  },
  {
   "cell_type": "code",
   "execution_count": 49,
   "id": "f0e92224",
   "metadata": {
    "scrolled": true
   },
   "outputs": [],
   "source": [
    "st.loc[st['test_type']=='Cambridge','overall_score'] = st.loc[st['test_type']=='Cambridge','overall_score'].replace(\n",
    "                                                             { #'178':'176',\n",
    "                                                              'B':'154',\n",
    "                                                              '6.0 (Overall Band Score)':'169',\n",
    "                                                              '6.0':'169',\n",
    "                                                              '3.5':'100'})"
   ]
  },
  {
   "cell_type": "code",
   "execution_count": 50,
   "id": "f8617e26",
   "metadata": {},
   "outputs": [
    {
     "data": {
      "text/plain": [
       "array(['178', nan, '154', '169', '100'], dtype=object)"
      ]
     },
     "execution_count": 50,
     "metadata": {},
     "output_type": "execute_result"
    }
   ],
   "source": [
    "st.loc[st['test_type']=='Cambridge','overall_score'].unique()"
   ]
  },
  {
   "cell_type": "markdown",
   "id": "71d03658",
   "metadata": {},
   "source": [
    "---"
   ]
  },
  {
   "cell_type": "markdown",
   "id": "962b93d3",
   "metadata": {},
   "source": [
    "#### MET (Michigan English Test)"
   ]
  },
  {
   "cell_type": "code",
   "execution_count": 51,
   "id": "f5a06227",
   "metadata": {
    "scrolled": false
   },
   "outputs": [
    {
     "data": {
      "text/plain": [
       "1287        61\n",
       "11425    17.50\n",
       "11426    17.50\n",
       "22283      NaN\n",
       "Name: overall_score, dtype: object"
      ]
     },
     "execution_count": 51,
     "metadata": {},
     "output_type": "execute_result"
    }
   ],
   "source": [
    "st.loc[st['test_type']=='MET (Michigan English Test)','overall_score']"
   ]
  },
  {
   "cell_type": "code",
   "execution_count": 52,
   "id": "5e8a6579",
   "metadata": {
    "scrolled": true
   },
   "outputs": [],
   "source": [
    "st.loc[st['test_type']=='MET (Michigan English Test)','overall_score']=st.loc[st['test_type']=='MET (Michigan English Test)','overall_score'].replace(\n",
    "                                                                               {'61':6.0,\n",
    "                                                                                '17.50':3.0})"
   ]
  },
  {
   "cell_type": "code",
   "execution_count": 53,
   "id": "517f0630",
   "metadata": {},
   "outputs": [
    {
     "data": {
      "text/plain": [
       "1287     6.0\n",
       "11425    3.0\n",
       "11426    3.0\n",
       "22283    NaN\n",
       "Name: overall_score, dtype: object"
      ]
     },
     "execution_count": 53,
     "metadata": {},
     "output_type": "execute_result"
    }
   ],
   "source": [
    "st.loc[st['test_type']=='MET (Michigan English Test)','overall_score']"
   ]
  },
  {
   "cell_type": "markdown",
   "id": "9ce8aae7",
   "metadata": {},
   "source": [
    "---"
   ]
  },
  {
   "cell_type": "code",
   "execution_count": 54,
   "id": "b9fb421f",
   "metadata": {
    "scrolled": false
   },
   "outputs": [
    {
     "data": {
      "text/plain": [
       "7590     NaN\n",
       "7592     NaN\n",
       "24155     C1\n",
       "Name: overall_score, dtype: object"
      ]
     },
     "execution_count": 54,
     "metadata": {},
     "output_type": "execute_result"
    }
   ],
   "source": [
    "st.loc[st['test_type']=='CEFR','overall_score']"
   ]
  },
  {
   "cell_type": "code",
   "execution_count": 55,
   "id": "8f980f60",
   "metadata": {},
   "outputs": [],
   "source": [
    "st.loc[st['test_type']=='CEFR','overall_score']=np.nan"
   ]
  },
  {
   "cell_type": "code",
   "execution_count": 56,
   "id": "77cadba7",
   "metadata": {},
   "outputs": [],
   "source": [
    "#st.loc[st['test_type']=='CAEL','overall_score']"
   ]
  },
  {
   "cell_type": "markdown",
   "id": "0449c75c",
   "metadata": {},
   "source": [
    "---"
   ]
  },
  {
   "cell_type": "code",
   "execution_count": 57,
   "id": "d4f7c6bc",
   "metadata": {
    "scrolled": true
   },
   "outputs": [
    {
     "data": {
      "text/plain": [
       "array(['6.0', '58', '6', nan, '6.5', '7', '7.0', '57', '67', '7.5', '60',\n",
       "       '54', '103', '66', '64', '70', '53', '56', '94', '105', '135',\n",
       "       '63', '55', '59', '100', '101', '5.5', '5', '87', '62', '8.0',\n",
       "       '96', '74', '81', '115', '98', '61', '65', '95', '130', '125',\n",
       "       '120', '110', '80', '45', 6.0, '111', '51', '72', '102', '68',\n",
       "       '97', '76', '89', '145', '85', '52', '35', '8', '104', '0', '71',\n",
       "       '79', '73', '99', '5.0', '178', '108', '69', '40', '75', '140',\n",
       "       '77', '84', '50', '86', '8.5', '109', '106', '92', '90', '113',\n",
       "       '91', '88', '4.5', '78', '114', '00', '2.5', '107', '82', '117',\n",
       "       '93', '4.0', 3.0, '83', '3.5', '3.0', '112', '46', '154', '15',\n",
       "       '150', '149', '169', '20', '0.0'], dtype=object)"
      ]
     },
     "execution_count": 57,
     "metadata": {},
     "output_type": "execute_result"
    }
   ],
   "source": [
    "st['overall_score'].unique()"
   ]
  },
  {
   "cell_type": "code",
   "execution_count": 58,
   "id": "a071702f",
   "metadata": {
    "scrolled": true
   },
   "outputs": [],
   "source": [
    "st['overall_score']=st['overall_score'].astype('float')"
   ]
  },
  {
   "cell_type": "code",
   "execution_count": 59,
   "id": "178d5e34",
   "metadata": {
    "scrolled": true
   },
   "outputs": [
    {
     "data": {
      "text/plain": [
       "test_type\n",
       "CAEL                                                                                            [nan]\n",
       "CEFR                                                                                            [nan]\n",
       "Cambridge                                                           [178.0, nan, 154.0, 169.0, 100.0]\n",
       "Duolingo                                            [105.0, 135.0, 100.0, nan, 115.0, 130.0, 125.0...\n",
       "EAP                                                                                             [nan]\n",
       "English Pathway School                                                                          [nan]\n",
       "IELTS                                               [6.0, 6.5, 7.0, 7.5, 5.5, 5.0, 8.0, nan, 0.0, ...\n",
       "International Test of English Proficiency (iTEP)                  [6.0, 6.5, 7.0, nan, 7.5, 5.0, 8.0]\n",
       "MET (Michigan English Test)                                                           [6.0, 3.0, nan]\n",
       "Other                                                                                           [nan]\n",
       "Pearson Language Test Evaluation                    [58.0, nan, 57.0, 67.0, 60.0, 54.0, 66.0, 64.0...\n",
       "TOEFL                                               [103.0, 94.0, 101.0, 87.0, 96.0, 98.0, 95.0, 1...\n",
       "Name: overall_score, dtype: object"
      ]
     },
     "execution_count": 59,
     "metadata": {},
     "output_type": "execute_result"
    }
   ],
   "source": [
    "score = st.groupby('test_type')['overall_score'].unique()\n",
    "score"
   ]
  },
  {
   "cell_type": "code",
   "execution_count": 60,
   "id": "28b93a0b",
   "metadata": {},
   "outputs": [],
   "source": [
    "def CAEL_IELTS(score):\n",
    "    if score <= 30:\n",
    "        return 4.5\n",
    "    elif score <= 40:\n",
    "        return 5.5\n",
    "    elif score <= 50:\n",
    "        return 6.0\n",
    "    elif score <= 60:\n",
    "        return 6.5\n",
    "    elif score <= 70:\n",
    "        return 7.0\n",
    "    elif score <= 80:\n",
    "        return 8.0\n",
    "    else:\n",
    "        return 9.0"
   ]
  },
  {
   "cell_type": "code",
   "execution_count": 61,
   "id": "99d18940",
   "metadata": {},
   "outputs": [],
   "source": [
    "def Cambridge_IELTS(score):\n",
    "    if score <= 154:\n",
    "        return 5.0\n",
    "    elif score <= 162:\n",
    "        return 5.5\n",
    "    elif score <= 169:\n",
    "        return 6.0\n",
    "    elif score <= 176:\n",
    "        return 6.5\n",
    "    elif score <= 185:\n",
    "        return 7.0\n",
    "    elif score <= 191:\n",
    "        return 7.5\n",
    "    else:\n",
    "        return 9.0"
   ]
  },
  {
   "cell_type": "code",
   "execution_count": 62,
   "id": "538b7b42",
   "metadata": {},
   "outputs": [],
   "source": [
    "def CEFR_IELTS(score):\n",
    "    if score in ['A1','A2']:\n",
    "        return 4.5\n",
    "    elif score == 'B1':\n",
    "        return 5.0\n",
    "    elif score == 'B2':\n",
    "        return 6.5\n",
    "    elif score == 'C1':\n",
    "        return 8.0\n",
    "    else:\n",
    "        return 9.0"
   ]
  },
  {
   "cell_type": "code",
   "execution_count": 63,
   "id": "738b427c",
   "metadata": {},
   "outputs": [],
   "source": [
    "def Duolingo_IELTS(score):\n",
    "    if score <= 10:\n",
    "        return 1.5\n",
    "    elif score <= 15:\n",
    "        return 2.0\n",
    "    elif score <= 25:\n",
    "        return 2.5\n",
    "    elif score <= 40:\n",
    "        return 3.0\n",
    "    elif score <= 50:\n",
    "        return 3.5\n",
    "    elif score <= 60:\n",
    "        return 4.0\n",
    "    elif score <= 70:\n",
    "        return 4.5\n",
    "    elif score <= 80:\n",
    "        return 5.0\n",
    "    elif score <= 90:\n",
    "        return 5.5\n",
    "    elif score <= 100:\n",
    "        return 6.0\n",
    "    elif score <= 110:\n",
    "        return 6.5\n",
    "    elif score <= 120:\n",
    "        return 7.0\n",
    "    elif score <= 130:\n",
    "        return 7.5\n",
    "    elif score <= 140:\n",
    "        return 8.0\n",
    "    elif score <= 150:\n",
    "        return 8.5\n",
    "    else:\n",
    "        return 9.0\n",
    "    "
   ]
  },
  {
   "cell_type": "code",
   "execution_count": 64,
   "id": "b5e9450a",
   "metadata": {},
   "outputs": [],
   "source": [
    "def PTE_IELTS(score):\n",
    "    if score <= 40.8:\n",
    "        return 5.0\n",
    "    elif score <= 45.4:\n",
    "        return 5.5\n",
    "    elif score <= 51.6:\n",
    "        return 6.0\n",
    "    elif score <= 58.5:\n",
    "        return 6.5\n",
    "    elif score <= 66.3:\n",
    "        return 7.0\n",
    "    elif score <= 74.6:\n",
    "        return 7.5\n",
    "    elif score <=82.3:\n",
    "        return 8.0\n",
    "    elif score <=88.1:\n",
    "        return 8.5\n",
    "    else:\n",
    "        return 9.0"
   ]
  },
  {
   "cell_type": "code",
   "execution_count": 65,
   "id": "87af1ea3",
   "metadata": {},
   "outputs": [],
   "source": [
    "def TOEFL_IELTS(score):\n",
    "    if score <= 31:\n",
    "        return 4.0\n",
    "    elif score <= 34:\n",
    "        return 4.5\n",
    "    elif score <= 45:\n",
    "        return 5.0\n",
    "    elif score <= 59:\n",
    "        return 5.5\n",
    "    elif score <= 78:\n",
    "        return 6.0\n",
    "    elif score <= 93:\n",
    "        return 6.5\n",
    "    elif score <= 101:\n",
    "        return 7.0\n",
    "    elif score <= 109:\n",
    "        return 7.5\n",
    "    elif score <= 114:\n",
    "        return 8.0\n",
    "    elif score <= 117:\n",
    "        return 8.5\n",
    "    else:\n",
    "        return 9.0"
   ]
  },
  {
   "cell_type": "code",
   "execution_count": 66,
   "id": "d2d4d14a",
   "metadata": {},
   "outputs": [],
   "source": [
    "def convert_to_ielts(row):\n",
    "    test_type = row['test_type']\n",
    "    score = row['overall_score']\n",
    "\n",
    "    if test_type == 'CEFR':\n",
    "        return CEFR_IELTS(score)\n",
    "    elif test_type == 'Duolingo':\n",
    "        return Duolingo_IELTS(score)\n",
    "    elif test_type == 'Cambridge':\n",
    "        return Cambridge_IELTS(score)\n",
    "    elif test_type == 'CAEL':\n",
    "        return CAEL_IELTS(score)\n",
    "    elif test_type == 'Pearson Language Test Evaluation':\n",
    "        return PTE_IELTS(score)\n",
    "    elif test_type == 'TOEFL':\n",
    "        return TOEFL_IELTS(score)\n",
    "    else:\n",
    "        return row['overall_score']"
   ]
  },
  {
   "cell_type": "code",
   "execution_count": 67,
   "id": "8dc50ce7",
   "metadata": {},
   "outputs": [],
   "source": [
    "#df['IELTS Score'] = df.apply(convert_to_ielts, axis=1)"
   ]
  },
  {
   "cell_type": "code",
   "execution_count": 68,
   "id": "32721e41",
   "metadata": {},
   "outputs": [
    {
     "data": {
      "text/plain": [
       "array([6. , 6.5, nan, 7. , 9. , 7.5, 8. , 5.5, 5. , 3.5, 8.5, 3. , 0. ,\n",
       "       4.5, 4. , 2.5, 2. ])"
      ]
     },
     "execution_count": 68,
     "metadata": {},
     "output_type": "execute_result"
    }
   ],
   "source": [
    "st['standardized_score'] = st.apply(convert_to_ielts, axis=1)\n",
    "st['standardized_score'].unique()"
   ]
  },
  {
   "cell_type": "markdown",
   "id": "4ef185ff",
   "metadata": {},
   "source": [
    "#### iTEP reture score directly"
   ]
  },
  {
   "cell_type": "code",
   "execution_count": 69,
   "id": "c8eccafe",
   "metadata": {},
   "outputs": [
    {
     "data": {
      "text/plain": [
       "3940     7.0\n",
       "10198    9.0\n",
       "12686    9.0\n",
       "27901    5.0\n",
       "31914    6.0\n",
       "31915    6.0\n",
       "38586    6.0\n",
       "45246    5.0\n",
       "Name: standardized_score, dtype: float64"
      ]
     },
     "execution_count": 69,
     "metadata": {},
     "output_type": "execute_result"
    }
   ],
   "source": [
    "st.loc[st['test_type']=='Cambridge','standardized_score']"
   ]
  },
  {
   "cell_type": "code",
   "execution_count": 70,
   "id": "23537310",
   "metadata": {},
   "outputs": [
    {
     "data": {
      "text/plain": [
       "(44815, 56)"
      ]
     },
     "execution_count": 70,
     "metadata": {},
     "output_type": "execute_result"
    }
   ],
   "source": [
    "st.shape"
   ]
  },
  {
   "cell_type": "markdown",
   "id": "f48a42ba",
   "metadata": {},
   "source": [
    "###### declared_student_id"
   ]
  },
  {
   "cell_type": "code",
   "execution_count": 71,
   "id": "5e8d1798",
   "metadata": {
    "scrolled": true
   },
   "outputs": [
    {
     "data": {
      "text/plain": [
       "1069"
      ]
     },
     "execution_count": 71,
     "metadata": {},
     "output_type": "execute_result"
    }
   ],
   "source": [
    "st.declared_student_id.count()"
   ]
  },
  {
   "cell_type": "code",
   "execution_count": 72,
   "id": "503f5c1a",
   "metadata": {
    "scrolled": true
   },
   "outputs": [
    {
     "data": {
      "text/plain": [
       "774"
      ]
     },
     "execution_count": 72,
     "metadata": {},
     "output_type": "execute_result"
    }
   ],
   "source": [
    "st.declared_student_id.nunique()"
   ]
  },
  {
   "cell_type": "code",
   "execution_count": 73,
   "id": "22673c96",
   "metadata": {},
   "outputs": [],
   "source": [
    "#st.drop(columns='declared_student_id', inplace=True)"
   ]
  },
  {
   "cell_type": "code",
   "execution_count": 74,
   "id": "c00f99ec",
   "metadata": {},
   "outputs": [
    {
     "data": {
      "text/plain": [
       "(44815, 56)"
      ]
     },
     "execution_count": 74,
     "metadata": {},
     "output_type": "execute_result"
    }
   ],
   "source": [
    "st.shape"
   ]
  },
  {
   "cell_type": "markdown",
   "id": "706b6664",
   "metadata": {},
   "source": [
    "###### agency_name"
   ]
  },
  {
   "cell_type": "code",
   "execution_count": 75,
   "id": "f94e5f68",
   "metadata": {},
   "outputs": [
    {
     "data": {
      "text/plain": [
       "39851"
      ]
     },
     "execution_count": 75,
     "metadata": {},
     "output_type": "execute_result"
    }
   ],
   "source": [
    "st.agency_name.count()"
   ]
  },
  {
   "cell_type": "code",
   "execution_count": 76,
   "id": "5b3063d0",
   "metadata": {},
   "outputs": [
    {
     "data": {
      "text/plain": [
       "234"
      ]
     },
     "execution_count": 76,
     "metadata": {},
     "output_type": "execute_result"
    }
   ],
   "source": [
    "st.agency_name.nunique()"
   ]
  },
  {
   "cell_type": "markdown",
   "id": "ec627299",
   "metadata": {},
   "source": [
    "###### program_choice_rank"
   ]
  },
  {
   "cell_type": "code",
   "execution_count": 77,
   "id": "543d357a",
   "metadata": {},
   "outputs": [
    {
     "data": {
      "text/plain": [
       "31995"
      ]
     },
     "execution_count": 77,
     "metadata": {},
     "output_type": "execute_result"
    }
   ],
   "source": [
    "st.program_choice_rank.count()"
   ]
  },
  {
   "cell_type": "code",
   "execution_count": 78,
   "id": "2a0c20a2",
   "metadata": {},
   "outputs": [
    {
     "data": {
      "text/plain": [
       "array([ 1., nan])"
      ]
     },
     "execution_count": 78,
     "metadata": {},
     "output_type": "execute_result"
    }
   ],
   "source": [
    "st.program_choice_rank.unique()"
   ]
  },
  {
   "cell_type": "code",
   "execution_count": 79,
   "id": "4f0b4cb7",
   "metadata": {},
   "outputs": [],
   "source": [
    "st['program_choice_rank'] = st['program_choice_rank'].fillna(0)"
   ]
  },
  {
   "cell_type": "code",
   "execution_count": 80,
   "id": "371d10af",
   "metadata": {},
   "outputs": [
    {
     "data": {
      "text/plain": [
       "array([1., 0.])"
      ]
     },
     "execution_count": 80,
     "metadata": {},
     "output_type": "execute_result"
    }
   ],
   "source": [
    "st.program_choice_rank.unique()"
   ]
  },
  {
   "cell_type": "markdown",
   "id": "183f3c05",
   "metadata": {},
   "source": [
    "###### application_resubmitted_date"
   ]
  },
  {
   "cell_type": "code",
   "execution_count": 81,
   "id": "d6a66c46",
   "metadata": {
    "scrolled": true
   },
   "outputs": [
    {
     "data": {
      "text/plain": [
       "2712"
      ]
     },
     "execution_count": 81,
     "metadata": {},
     "output_type": "execute_result"
    }
   ],
   "source": [
    "st.application_resubmitted_date.count()"
   ]
  },
  {
   "cell_type": "code",
   "execution_count": 82,
   "id": "40bda8a0",
   "metadata": {},
   "outputs": [],
   "source": [
    "#st.drop(columns='application_resubmitted_date', inplace=True)"
   ]
  },
  {
   "cell_type": "code",
   "execution_count": 83,
   "id": "09d3077e",
   "metadata": {},
   "outputs": [
    {
     "data": {
      "text/plain": [
       "(44815, 56)"
      ]
     },
     "execution_count": 83,
     "metadata": {},
     "output_type": "execute_result"
    }
   ],
   "source": [
    "st.shape"
   ]
  },
  {
   "cell_type": "markdown",
   "id": "686c8d2f",
   "metadata": {},
   "source": [
    "###### screened_date\n",
    "When screening_status is not screened, the screened_date is nan."
   ]
  },
  {
   "cell_type": "code",
   "execution_count": 84,
   "id": "2bd0313d",
   "metadata": {},
   "outputs": [
    {
     "data": {
      "text/plain": [
       "42912"
      ]
     },
     "execution_count": 84,
     "metadata": {},
     "output_type": "execute_result"
    }
   ],
   "source": [
    "st.screened_date.count()"
   ]
  },
  {
   "cell_type": "markdown",
   "id": "8a898a25",
   "metadata": {},
   "source": [
    "###### offer_state"
   ]
  },
  {
   "cell_type": "code",
   "execution_count": 85,
   "id": "0487569f",
   "metadata": {},
   "outputs": [
    {
     "data": {
      "text/plain": [
       "41585"
      ]
     },
     "execution_count": 85,
     "metadata": {},
     "output_type": "execute_result"
    }
   ],
   "source": [
    "st.offer_date.count()"
   ]
  },
  {
   "cell_type": "code",
   "execution_count": 86,
   "id": "783a8d92",
   "metadata": {},
   "outputs": [
    {
     "data": {
      "text/plain": [
       "Revoked               14462\n",
       "Pre-Registered         9635\n",
       "Refund Requested       6660\n",
       "Deferral Requested     3873\n",
       "Withdrawn              3317\n",
       "Offered                1195\n",
       "Accepted               1164\n",
       "Declined               1029\n",
       "Paid                    250\n",
       "Name: offer_state, dtype: int64"
      ]
     },
     "execution_count": 86,
     "metadata": {},
     "output_type": "execute_result"
    }
   ],
   "source": [
    "st.offer_state.value_counts()"
   ]
  },
  {
   "cell_type": "markdown",
   "id": "2066633c",
   "metadata": {},
   "source": [
    "###### proof_of_payment_date"
   ]
  },
  {
   "cell_type": "code",
   "execution_count": 87,
   "id": "8c445364",
   "metadata": {},
   "outputs": [
    {
     "data": {
      "text/plain": [
       "13803"
      ]
     },
     "execution_count": 87,
     "metadata": {},
     "output_type": "execute_result"
    }
   ],
   "source": [
    "st.proof_of_payment_date.count()"
   ]
  },
  {
   "cell_type": "code",
   "execution_count": 88,
   "id": "d46cc9f2",
   "metadata": {},
   "outputs": [],
   "source": [
    "#st.drop(columns='proof_of_payment_date', inplace=True)"
   ]
  },
  {
   "cell_type": "code",
   "execution_count": 89,
   "id": "0a4d8f94",
   "metadata": {},
   "outputs": [
    {
     "data": {
      "text/plain": [
       "(44815, 56)"
      ]
     },
     "execution_count": 89,
     "metadata": {},
     "output_type": "execute_result"
    }
   ],
   "source": [
    "st.shape"
   ]
  },
  {
   "cell_type": "markdown",
   "id": "fbc290e7",
   "metadata": {},
   "source": [
    "###### conditions?\n",
    "When program_decision_state is declined or no desicion, the conditions? is nan."
   ]
  },
  {
   "cell_type": "code",
   "execution_count": 90,
   "id": "48e78c5a",
   "metadata": {},
   "outputs": [
    {
     "data": {
      "text/plain": [
       "41585"
      ]
     },
     "execution_count": 90,
     "metadata": {},
     "output_type": "execute_result"
    }
   ],
   "source": [
    "st['conditions?'].count()"
   ]
  },
  {
   "cell_type": "code",
   "execution_count": 91,
   "id": "bf3acdc3",
   "metadata": {},
   "outputs": [
    {
     "data": {
      "text/plain": [
       "False    41351\n",
       "True       234\n",
       "Name: conditions?, dtype: int64"
      ]
     },
     "execution_count": 91,
     "metadata": {},
     "output_type": "execute_result"
    }
   ],
   "source": [
    "st['conditions?'].value_counts()"
   ]
  },
  {
   "cell_type": "markdown",
   "id": "70a5943a",
   "metadata": {},
   "source": [
    "###### offer_conditions"
   ]
  },
  {
   "cell_type": "code",
   "execution_count": 92,
   "id": "5d36f682",
   "metadata": {},
   "outputs": [
    {
     "data": {
      "text/plain": [
       "234"
      ]
     },
     "execution_count": 92,
     "metadata": {},
     "output_type": "execute_result"
    }
   ],
   "source": [
    "st.offer_conditions.count()"
   ]
  },
  {
   "cell_type": "code",
   "execution_count": 93,
   "id": "45e5c515",
   "metadata": {},
   "outputs": [
    {
     "data": {
      "text/plain": [
       "Successful completion of EAP                                                                       85\n",
       "Proof of English proficiency                                                                       65\n",
       "Successful completion of ESC pathway                                                               14\n",
       "Successful completion of High School                                                               14\n",
       "Successful completion of College Writing course.                                                    6\n",
       "Successful completion of ESL                                                                        4\n",
       "Successful completion of University                                                                 3\n",
       "Successful completion of Institution program                                                        3\n",
       "He has successfully completed the prerequisite course - Canada Agile Prep Academy EAP level 3.      2\n",
       "Gain 75% of EAP level 3 of Canada Agile Preparatory Academy                                         2\n",
       "Stduent has completed the prerequisite course - Canada Agile Prep Academy EAP pathway level 3       2\n",
       "She has successfully completed the prerequisite course.                                             2\n",
       "Successfully complete ILAC University Pathway 3.2                                                   2\n",
       "Successful completion of ILAC English pathway.                                                      1\n",
       "Successfully completion of St. Clair College's College Writing course.                              1\n",
       "Successfully complete Admission Testing                                                             1\n",
       "She has completed prerequisite course - ILAC University Pathway 3.4                                 1\n",
       "He has successfully completed ILAC univeristy pathway 3.4.                                          1\n",
       "Student has completed the required prerequisite course - Canada Agile Prep EAP level 3 85%          1\n",
       "The parents have valid Work Permit therefore it's domestic rate.                                    1\n",
       "Passing Canada Agile Prep Academy pathway EAP level 3 with 75% or better                            1\n",
       "Based on your Animation Art Test                                                                    1\n",
       "Provide your Portfolio                                                                              1\n",
       "Successfully complete EAP 8 in 2023 Winter term.                                                    1\n",
       "He has successfully passed the prerequisite course - Canada Agile Prep EAP Pathway level 3          1\n",
       "Completion of Math admissions test                                                                  1\n",
       "Completion of the Pre-Health program                                                                1\n",
       "Gain 75% of Canada Agile EAP pathway level 3                                                        1\n",
       "Successful completion of the audition process                                                       1\n",
       "Successfully complete B227 Office Administration-General program                                    1\n",
       "She has successfully completed Agile Prep Academy EAP pathway level 3                               1\n",
       "Successfully complete ILAC pathway 3.2                                                              1\n",
       "Completion of the ILAC pathway                                                                      1\n",
       "Student has successfully completed the prerequisite course - College Writing.                       1\n",
       "Pass ILAC University Pathway 3.2                                                                    1\n",
       "Score of 115 or higher on Duolingo                                                                  1\n",
       "Student has successfully completed prerequisite course - Agile Prep Academy EAP pathway level 3     1\n",
       "He has successully completed the prerequisite course - 75% of Agile Prep Academy EAP level 3.       1\n",
       "She has successfully completed the prerequisite course - Ace Acumen EAP pathway                     1\n",
       "Successful completion of High School, Proof of English proficiency                                  1\n",
       "Successfully complete ILAC university pathway 3.2                                                   1\n",
       "He has successfully completed ILAC university pathway 3.4.                                          1\n",
       "Completion of English pathway course                                                                1\n",
       "Name: offer_conditions, dtype: int64"
      ]
     },
     "execution_count": 93,
     "metadata": {},
     "output_type": "execute_result"
    }
   ],
   "source": [
    "st.offer_conditions.value_counts()"
   ]
  },
  {
   "cell_type": "code",
   "execution_count": 94,
   "id": "4e32721d",
   "metadata": {},
   "outputs": [],
   "source": [
    "#st.drop(columns='offer_conditions', inplace=True)"
   ]
  },
  {
   "cell_type": "code",
   "execution_count": 95,
   "id": "c171ecd1",
   "metadata": {},
   "outputs": [
    {
     "data": {
      "text/plain": [
       "(44815, 56)"
      ]
     },
     "execution_count": 95,
     "metadata": {},
     "output_type": "execute_result"
    }
   ],
   "source": [
    "st.shape"
   ]
  },
  {
   "cell_type": "markdown",
   "id": "533b584e",
   "metadata": {},
   "source": [
    "###### offer_date, issued_date, expiration_date\n",
    "When program_decision_state is declined or no desicion, the offer_date, issued_date, expiration_date is nan."
   ]
  },
  {
   "cell_type": "code",
   "execution_count": 96,
   "id": "367b2ed5",
   "metadata": {},
   "outputs": [
    {
     "data": {
      "text/plain": [
       "offer_date         41585\n",
       "issued_date        41585\n",
       "expiration_date    41585\n",
       "dtype: int64"
      ]
     },
     "execution_count": 96,
     "metadata": {},
     "output_type": "execute_result"
    }
   ],
   "source": [
    "st[['offer_date','issued_date','expiration_date']].count()"
   ]
  },
  {
   "cell_type": "markdown",
   "id": "8e357355",
   "metadata": {},
   "source": [
    "###### offer_accepted_date, paid_date"
   ]
  },
  {
   "cell_type": "code",
   "execution_count": 97,
   "id": "789b84c0",
   "metadata": {},
   "outputs": [
    {
     "data": {
      "text/plain": [
       "offer_accepted_date    35198\n",
       "paid_date              25465\n",
       "dtype: int64"
      ]
     },
     "execution_count": 97,
     "metadata": {},
     "output_type": "execute_result"
    }
   ],
   "source": [
    "st[['offer_accepted_date','paid_date']].count()"
   ]
  },
  {
   "cell_type": "markdown",
   "id": "a0018ba8",
   "metadata": {},
   "source": [
    "###### pre-registration_date"
   ]
  },
  {
   "cell_type": "code",
   "execution_count": 98,
   "id": "ad588bab",
   "metadata": {
    "scrolled": true
   },
   "outputs": [
    {
     "data": {
      "text/plain": [
       "11491"
      ]
     },
     "execution_count": 98,
     "metadata": {},
     "output_type": "execute_result"
    }
   ],
   "source": [
    "st['pre-registration_date'].count()"
   ]
  },
  {
   "cell_type": "markdown",
   "id": "a77806fc",
   "metadata": {},
   "source": [
    "###### withdraw_reason"
   ]
  },
  {
   "cell_type": "code",
   "execution_count": 99,
   "id": "4b2aa1fe",
   "metadata": {},
   "outputs": [
    {
     "data": {
      "text/plain": [
       "12515"
      ]
     },
     "execution_count": 99,
     "metadata": {},
     "output_type": "execute_result"
    }
   ],
   "source": [
    "st.withdraw_reason.count()"
   ]
  },
  {
   "cell_type": "code",
   "execution_count": 100,
   "id": "b1f992bb",
   "metadata": {},
   "outputs": [
    {
     "data": {
      "text/plain": [
       "12"
      ]
     },
     "execution_count": 100,
     "metadata": {},
     "output_type": "execute_result"
    }
   ],
   "source": [
    "st.withdraw_reason.nunique()"
   ]
  },
  {
   "cell_type": "code",
   "execution_count": 101,
   "id": "452e8a19",
   "metadata": {},
   "outputs": [
    {
     "data": {
      "text/plain": [
       "Visa Rejected                           6566\n",
       "Other                                   2718\n",
       "Visa Delayed                            1669\n",
       "Program Change Request                   486\n",
       "Accepted Another Offer                   341\n",
       "Financial                                210\n",
       "Campus Change Request                    207\n",
       "Transfer to Another Institution          162\n",
       "Health                                    85\n",
       "Academic Suspension/Cancelled             46\n",
       "Not able to meet conditions of Offer      16\n",
       "Language Difficulty                        9\n",
       "Name: withdraw_reason, dtype: int64"
      ]
     },
     "execution_count": 101,
     "metadata": {},
     "output_type": "execute_result"
    }
   ],
   "source": [
    "st.withdraw_reason.value_counts()"
   ]
  },
  {
   "cell_type": "markdown",
   "id": "1b2f054e",
   "metadata": {},
   "source": [
    "###### revoke_reason"
   ]
  },
  {
   "cell_type": "code",
   "execution_count": 102,
   "id": "c535279b",
   "metadata": {
    "scrolled": true
   },
   "outputs": [
    {
     "data": {
      "text/plain": [
       "16094"
      ]
     },
     "execution_count": 102,
     "metadata": {},
     "output_type": "execute_result"
    }
   ],
   "source": [
    "st.revoke_reason.count()"
   ]
  },
  {
   "cell_type": "code",
   "execution_count": 103,
   "id": "f6296d61",
   "metadata": {
    "scrolled": true
   },
   "outputs": [
    {
     "data": {
      "text/plain": [
       "4"
      ]
     },
     "execution_count": 103,
     "metadata": {},
     "output_type": "execute_result"
    }
   ],
   "source": [
    "st.revoke_reason.nunique()"
   ]
  },
  {
   "cell_type": "code",
   "execution_count": 104,
   "id": "e7ef1a60",
   "metadata": {},
   "outputs": [
    {
     "data": {
      "text/plain": [
       "Payment Not Received                         10323\n",
       "No Seats Available in the Selected Intake     5078\n",
       "Other                                          692\n",
       "Visa Rejected                                    1\n",
       "Name: revoke_reason, dtype: int64"
      ]
     },
     "execution_count": 104,
     "metadata": {},
     "output_type": "execute_result"
    }
   ],
   "source": [
    "st.revoke_reason.value_counts()"
   ]
  },
  {
   "cell_type": "markdown",
   "id": "92821066",
   "metadata": {},
   "source": [
    "###### other_reason"
   ]
  },
  {
   "cell_type": "code",
   "execution_count": 105,
   "id": "23097192",
   "metadata": {},
   "outputs": [
    {
     "data": {
      "text/plain": [
       "3371"
      ]
     },
     "execution_count": 105,
     "metadata": {},
     "output_type": "execute_result"
    }
   ],
   "source": [
    "st.other_reason.count()"
   ]
  },
  {
   "cell_type": "code",
   "execution_count": 106,
   "id": "14077d5b",
   "metadata": {},
   "outputs": [
    {
     "data": {
      "text/plain": [
       "943"
      ]
     },
     "execution_count": 106,
     "metadata": {},
     "output_type": "execute_result"
    }
   ],
   "source": [
    "st.other_reason.nunique()"
   ]
  },
  {
   "cell_type": "markdown",
   "id": "ff6cbb9e",
   "metadata": {},
   "source": [
    "###### decline_reason"
   ]
  },
  {
   "cell_type": "code",
   "execution_count": 107,
   "id": "1f5e366e",
   "metadata": {},
   "outputs": [
    {
     "data": {
      "text/plain": [
       "474"
      ]
     },
     "execution_count": 107,
     "metadata": {},
     "output_type": "execute_result"
    }
   ],
   "source": [
    "st.decline_reason.count()"
   ]
  },
  {
   "cell_type": "code",
   "execution_count": 108,
   "id": "c82d658c",
   "metadata": {},
   "outputs": [
    {
     "data": {
      "text/plain": [
       "5"
      ]
     },
     "execution_count": 108,
     "metadata": {},
     "output_type": "execute_result"
    }
   ],
   "source": [
    "st.decline_reason.nunique()"
   ]
  },
  {
   "cell_type": "code",
   "execution_count": 109,
   "id": "c87aad19",
   "metadata": {},
   "outputs": [
    {
     "data": {
      "text/plain": [
       "Other                                                       398\n",
       "Accepted Offer of Another Canadian Institution               47\n",
       "Financial Problem                                            17\n",
       "Family Problem                                               11\n",
       "Accepted Offer of Another Institution in Another Country      1\n",
       "Name: decline_reason, dtype: int64"
      ]
     },
     "execution_count": 109,
     "metadata": {},
     "output_type": "execute_result"
    }
   ],
   "source": [
    "st.decline_reason.value_counts()"
   ]
  },
  {
   "cell_type": "markdown",
   "id": "ffe392e4",
   "metadata": {},
   "source": [
    "###### decline_other_reason"
   ]
  },
  {
   "cell_type": "code",
   "execution_count": 110,
   "id": "085175e8",
   "metadata": {},
   "outputs": [
    {
     "data": {
      "text/plain": [
       "398"
      ]
     },
     "execution_count": 110,
     "metadata": {},
     "output_type": "execute_result"
    }
   ],
   "source": [
    "st.decline_other_reason.count()"
   ]
  },
  {
   "cell_type": "code",
   "execution_count": 111,
   "id": "ffbff7b7",
   "metadata": {},
   "outputs": [
    {
     "data": {
      "text/plain": [
       "274"
      ]
     },
     "execution_count": 111,
     "metadata": {},
     "output_type": "execute_result"
    }
   ],
   "source": [
    "st.decline_other_reason.nunique()"
   ]
  },
  {
   "cell_type": "markdown",
   "id": "5b1d3cea",
   "metadata": {},
   "source": [
    "###### deferral_offer_date"
   ]
  },
  {
   "cell_type": "code",
   "execution_count": 112,
   "id": "07737641",
   "metadata": {},
   "outputs": [
    {
     "data": {
      "text/plain": [
       "4115"
      ]
     },
     "execution_count": 112,
     "metadata": {},
     "output_type": "execute_result"
    }
   ],
   "source": [
    "st.deferral_offer_date.count()"
   ]
  },
  {
   "cell_type": "markdown",
   "id": "5664b0b3",
   "metadata": {},
   "source": [
    "###### refund_offer_date"
   ]
  },
  {
   "cell_type": "code",
   "execution_count": 113,
   "id": "c24918de",
   "metadata": {},
   "outputs": [
    {
     "data": {
      "text/plain": [
       "6962"
      ]
     },
     "execution_count": 113,
     "metadata": {},
     "output_type": "execute_result"
    }
   ],
   "source": [
    "st.refund_offer_date.count()"
   ]
  },
  {
   "cell_type": "code",
   "execution_count": 114,
   "id": "9d288e60",
   "metadata": {
    "scrolled": true
   },
   "outputs": [
    {
     "data": {
      "text/plain": [
       "(44815, 56)"
      ]
     },
     "execution_count": 114,
     "metadata": {},
     "output_type": "execute_result"
    }
   ],
   "source": [
    "st.shape"
   ]
  },
  {
   "cell_type": "markdown",
   "id": "75341209",
   "metadata": {},
   "source": [
    "--FGCL03 drop the duplicates on applicant number"
   ]
  },
  {
   "cell_type": "code",
   "execution_count": 115,
   "id": "1b9370da",
   "metadata": {},
   "outputs": [],
   "source": [
    "st = st.drop_duplicates(['applicant_number'], keep = 'last', inplace= False)"
   ]
  },
  {
   "cell_type": "code",
   "execution_count": 116,
   "id": "47b4f4e2",
   "metadata": {},
   "outputs": [
    {
     "data": {
      "text/plain": [
       "(33589, 56)"
      ]
     },
     "execution_count": 116,
     "metadata": {},
     "output_type": "execute_result"
    }
   ],
   "source": [
    "st.shape"
   ]
  },
  {
   "cell_type": "markdown",
   "id": "766f670f",
   "metadata": {},
   "source": [
    "###### Adding new columns to the dataset\n",
    "\n",
    "--RGCL01"
   ]
  },
  {
   "cell_type": "code",
   "execution_count": 117,
   "id": "d81eba8a",
   "metadata": {},
   "outputs": [],
   "source": [
    "st['test_type_st'] = 'IELTS'\n",
    "st.loc[st['standardized_score'].isna(),'test_type_st']=''\n",
    "\n",
    "st['uid'] = range(1, len(st)+1)"
   ]
  },
  {
   "cell_type": "code",
   "execution_count": 118,
   "id": "2f4c7f3a",
   "metadata": {},
   "outputs": [
    {
     "data": {
      "text/plain": [
       "(33589, 58)"
      ]
     },
     "execution_count": 118,
     "metadata": {},
     "output_type": "execute_result"
    }
   ],
   "source": [
    "st.shape"
   ]
  },
  {
   "cell_type": "markdown",
   "id": "49d1424a",
   "metadata": {},
   "source": [
    "### Save the dataframe as a xlsx file"
   ]
  },
  {
   "cell_type": "code",
   "execution_count": 119,
   "id": "dc77877e",
   "metadata": {},
   "outputs": [],
   "source": [
    "st.to_excel('students_clean.xlsx', index=False)"
   ]
  },
  {
   "cell_type": "code",
   "execution_count": 120,
   "id": "0ce37d86",
   "metadata": {},
   "outputs": [],
   "source": [
    "st_new = pd.read_excel('students_clean.xlsx')"
   ]
  },
  {
   "cell_type": "code",
   "execution_count": 121,
   "id": "748f6103",
   "metadata": {},
   "outputs": [
    {
     "data": {
      "text/html": [
       "<div>\n",
       "<style scoped>\n",
       "    .dataframe tbody tr th:only-of-type {\n",
       "        vertical-align: middle;\n",
       "    }\n",
       "\n",
       "    .dataframe tbody tr th {\n",
       "        vertical-align: top;\n",
       "    }\n",
       "\n",
       "    .dataframe thead th {\n",
       "        text-align: right;\n",
       "    }\n",
       "</style>\n",
       "<table border=\"1\" class=\"dataframe\">\n",
       "  <thead>\n",
       "    <tr style=\"text-align: right;\">\n",
       "      <th></th>\n",
       "      <th>enrolled</th>\n",
       "      <th>applicant_number</th>\n",
       "      <th>mailing_address_postal_zip_code</th>\n",
       "      <th>primary_citizenship</th>\n",
       "      <th>mother_tongue</th>\n",
       "      <th>country_of_birth</th>\n",
       "      <th>date_of_birth</th>\n",
       "      <th>status_in_canada</th>\n",
       "      <th>current_country_of_residence</th>\n",
       "      <th>current_province_of_residence</th>\n",
       "      <th>...</th>\n",
       "      <th>withdraw_reason</th>\n",
       "      <th>revoke_reason</th>\n",
       "      <th>other_reason</th>\n",
       "      <th>decline_reason</th>\n",
       "      <th>decline_other_reason</th>\n",
       "      <th>deferral_offer_date</th>\n",
       "      <th>refund_offer_date</th>\n",
       "      <th>standardized_score</th>\n",
       "      <th>test_type_st</th>\n",
       "      <th>uid</th>\n",
       "    </tr>\n",
       "  </thead>\n",
       "  <tbody>\n",
       "    <tr>\n",
       "      <th>0</th>\n",
       "      <td>False</td>\n",
       "      <td>X1981866</td>\n",
       "      <td>L7C 3B6</td>\n",
       "      <td>India</td>\n",
       "      <td>Panjabi; Punjabi</td>\n",
       "      <td>India</td>\n",
       "      <td>1996-12-20</td>\n",
       "      <td>Study Permit / Student Visa</td>\n",
       "      <td>Canada</td>\n",
       "      <td>Ontario</td>\n",
       "      <td>...</td>\n",
       "      <td>NaN</td>\n",
       "      <td>Payment Not Received</td>\n",
       "      <td>NaN</td>\n",
       "      <td>NaN</td>\n",
       "      <td>NaN</td>\n",
       "      <td>NaT</td>\n",
       "      <td>NaT</td>\n",
       "      <td>6.0</td>\n",
       "      <td>IELTS</td>\n",
       "      <td>1</td>\n",
       "    </tr>\n",
       "    <tr>\n",
       "      <th>1</th>\n",
       "      <td>True</td>\n",
       "      <td>X1981905</td>\n",
       "      <td>152123</td>\n",
       "      <td>India</td>\n",
       "      <td>Panjabi; Punjabi</td>\n",
       "      <td>India</td>\n",
       "      <td>2003-01-10</td>\n",
       "      <td>No status in Canada</td>\n",
       "      <td>India</td>\n",
       "      <td>Punjab</td>\n",
       "      <td>...</td>\n",
       "      <td>NaN</td>\n",
       "      <td>NaN</td>\n",
       "      <td>NaN</td>\n",
       "      <td>NaN</td>\n",
       "      <td>NaN</td>\n",
       "      <td>NaT</td>\n",
       "      <td>NaT</td>\n",
       "      <td>6.0</td>\n",
       "      <td>IELTS</td>\n",
       "      <td>2</td>\n",
       "    </tr>\n",
       "    <tr>\n",
       "      <th>2</th>\n",
       "      <td>False</td>\n",
       "      <td>X1965783</td>\n",
       "      <td>151504</td>\n",
       "      <td>India</td>\n",
       "      <td>Panjabi; Punjabi</td>\n",
       "      <td>India</td>\n",
       "      <td>1998-03-15</td>\n",
       "      <td>No status in Canada</td>\n",
       "      <td>India</td>\n",
       "      <td>Punjab</td>\n",
       "      <td>...</td>\n",
       "      <td>NaN</td>\n",
       "      <td>No Seats Available in the Selected Intake</td>\n",
       "      <td>NaN</td>\n",
       "      <td>NaN</td>\n",
       "      <td>NaN</td>\n",
       "      <td>NaT</td>\n",
       "      <td>NaT</td>\n",
       "      <td>6.5</td>\n",
       "      <td>IELTS</td>\n",
       "      <td>3</td>\n",
       "    </tr>\n",
       "    <tr>\n",
       "      <th>3</th>\n",
       "      <td>False</td>\n",
       "      <td>X1965785</td>\n",
       "      <td>143001</td>\n",
       "      <td>India</td>\n",
       "      <td>Panjabi; Punjabi</td>\n",
       "      <td>India</td>\n",
       "      <td>1999-01-27</td>\n",
       "      <td>No status in Canada</td>\n",
       "      <td>India</td>\n",
       "      <td>Punjab</td>\n",
       "      <td>...</td>\n",
       "      <td>NaN</td>\n",
       "      <td>Payment Not Received</td>\n",
       "      <td>NaN</td>\n",
       "      <td>NaN</td>\n",
       "      <td>NaN</td>\n",
       "      <td>NaT</td>\n",
       "      <td>NaT</td>\n",
       "      <td>6.0</td>\n",
       "      <td>IELTS</td>\n",
       "      <td>4</td>\n",
       "    </tr>\n",
       "    <tr>\n",
       "      <th>4</th>\n",
       "      <td>True</td>\n",
       "      <td>X1971268</td>\n",
       "      <td>143534</td>\n",
       "      <td>India</td>\n",
       "      <td>Panjabi; Punjabi</td>\n",
       "      <td>India</td>\n",
       "      <td>2004-06-04</td>\n",
       "      <td>No status in Canada</td>\n",
       "      <td>India</td>\n",
       "      <td>Punjab</td>\n",
       "      <td>...</td>\n",
       "      <td>NaN</td>\n",
       "      <td>NaN</td>\n",
       "      <td>NaN</td>\n",
       "      <td>NaN</td>\n",
       "      <td>NaN</td>\n",
       "      <td>NaT</td>\n",
       "      <td>NaT</td>\n",
       "      <td>6.5</td>\n",
       "      <td>IELTS</td>\n",
       "      <td>5</td>\n",
       "    </tr>\n",
       "  </tbody>\n",
       "</table>\n",
       "<p>5 rows × 58 columns</p>\n",
       "</div>"
      ],
      "text/plain": [
       "   enrolled applicant_number mailing_address_postal_zip_code  \\\n",
       "0     False         X1981866                         L7C 3B6   \n",
       "1      True         X1981905                          152123   \n",
       "2     False         X1965783                          151504   \n",
       "3     False         X1965785                          143001   \n",
       "4      True         X1971268                          143534   \n",
       "\n",
       "  primary_citizenship     mother_tongue country_of_birth date_of_birth  \\\n",
       "0               India  Panjabi; Punjabi            India    1996-12-20   \n",
       "1               India  Panjabi; Punjabi            India    2003-01-10   \n",
       "2               India  Panjabi; Punjabi            India    1998-03-15   \n",
       "3               India  Panjabi; Punjabi            India    1999-01-27   \n",
       "4               India  Panjabi; Punjabi            India    2004-06-04   \n",
       "\n",
       "              status_in_canada current_country_of_residence  \\\n",
       "0  Study Permit / Student Visa                       Canada   \n",
       "1          No status in Canada                        India   \n",
       "2          No status in Canada                        India   \n",
       "3          No status in Canada                        India   \n",
       "4          No status in Canada                        India   \n",
       "\n",
       "  current_province_of_residence  ... withdraw_reason  \\\n",
       "0                       Ontario  ...             NaN   \n",
       "1                        Punjab  ...             NaN   \n",
       "2                        Punjab  ...             NaN   \n",
       "3                        Punjab  ...             NaN   \n",
       "4                        Punjab  ...             NaN   \n",
       "\n",
       "                               revoke_reason other_reason decline_reason  \\\n",
       "0                       Payment Not Received          NaN            NaN   \n",
       "1                                        NaN          NaN            NaN   \n",
       "2  No Seats Available in the Selected Intake          NaN            NaN   \n",
       "3                       Payment Not Received          NaN            NaN   \n",
       "4                                        NaN          NaN            NaN   \n",
       "\n",
       "  decline_other_reason deferral_offer_date refund_offer_date  \\\n",
       "0                  NaN                 NaT               NaT   \n",
       "1                  NaN                 NaT               NaT   \n",
       "2                  NaN                 NaT               NaT   \n",
       "3                  NaN                 NaT               NaT   \n",
       "4                  NaN                 NaT               NaT   \n",
       "\n",
       "  standardized_score test_type_st uid  \n",
       "0                6.0        IELTS   1  \n",
       "1                6.0        IELTS   2  \n",
       "2                6.5        IELTS   3  \n",
       "3                6.0        IELTS   4  \n",
       "4                6.5        IELTS   5  \n",
       "\n",
       "[5 rows x 58 columns]"
      ]
     },
     "execution_count": 121,
     "metadata": {},
     "output_type": "execute_result"
    }
   ],
   "source": [
    "st_new.head()"
   ]
  }
 ],
 "metadata": {
  "kernelspec": {
   "display_name": "Python 3 (ipykernel)",
   "language": "python",
   "name": "python3"
  },
  "language_info": {
   "codemirror_mode": {
    "name": "ipython",
    "version": 3
   },
   "file_extension": ".py",
   "mimetype": "text/x-python",
   "name": "python",
   "nbconvert_exporter": "python",
   "pygments_lexer": "ipython3",
   "version": "3.9.12"
  }
 },
 "nbformat": 4,
 "nbformat_minor": 5
}
